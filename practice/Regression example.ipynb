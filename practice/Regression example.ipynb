{
 "cells": [
  {
   "cell_type": "code",
<<<<<<< HEAD
   "execution_count": 1,
=======
   "execution_count": 6,
>>>>>>> 056e833f599fe75178e0670ed767ece0b73f8932
   "metadata": {},
   "outputs": [
    {
     "name": "stderr",
     "output_type": "stream",
     "text": [
      "Using TensorFlow backend.\n"
     ]
    }
   ],
   "source": [
    "from keras.datasets import boston_housing\n",
    "(train_data, train_targets), (test_data, test_targets) = boston_housing.load_data()"
   ]
  },
  {
   "cell_type": "code",
   "execution_count": 2,
   "metadata": {},
   "outputs": [
    {
     "data": {
      "text/plain": [
       "array([  1.23247,   0.     ,   8.14   ,   0.     ,   0.538  ,   6.142  ,\n",
       "        91.7    ,   3.9769 ,   4.     , 307.     ,  21.     , 396.9    ,\n",
       "        18.72   ])"
      ]
     },
     "execution_count": 2,
     "metadata": {},
     "output_type": "execute_result"
    }
   ],
   "source": [
    "train_data[0]"
   ]
  },
  {
   "cell_type": "code",
   "execution_count": 3,
   "metadata": {},
   "outputs": [
    {
     "data": {
      "text/plain": [
       "((404,), (404, 13))"
      ]
     },
     "execution_count": 3,
     "metadata": {},
     "output_type": "execute_result"
    }
   ],
   "source": [
    "train_targets.shape,train_data.shape"
   ]
  },
  {
   "cell_type": "code",
<<<<<<< HEAD
   "execution_count": 4,
=======
   "execution_count": 7,
>>>>>>> 056e833f599fe75178e0670ed767ece0b73f8932
   "metadata": {},
   "outputs": [],
   "source": [
    "mean = train_data.mean(axis = 0)\n",
    "train_data -= mean\n",
    "std = train_data.std(axis = 0)\n",
    "train_data/= std\n",
    "\n",
    "test_data -= mean\n",
    "test_data /= std\n"
   ]
  },
  {
   "cell_type": "code",
<<<<<<< HEAD
   "execution_count": 5,
=======
   "execution_count": 4,
>>>>>>> 056e833f599fe75178e0670ed767ece0b73f8932
   "metadata": {},
   "outputs": [],
   "source": [
    "from keras import layers\n",
    "from keras import models\n",
    "def build_model(units,layerz,metric):\n",
    "    model = models.Sequential()\n",
    "    model.add(layers.Dense(units, activation = 'relu', \n",
    "                           input_shape = (13,)))\n",
    "    for layer in range(layerz):\n",
    "        model.add(layers.Dense(units, activation = 'relu'))\n",
    "    model.add(layers.Dense(1)) #linear layer\n",
    "    model.compile(optimizer = 'rmsprop', loss = 'mse', metrics =[metric] )\n",
    "    return model\n"
   ]
  },
  {
   "cell_type": "markdown",
   "metadata": {},
   "source": [
    "K-fold validation"
   ]
  },
  {
   "cell_type": "code",
   "execution_count": 9,
   "metadata": {},
   "outputs": [
    {
     "name": "stdout",
     "output_type": "stream",
     "text": [
      "processing fold # 0\n",
      "WARNING:tensorflow:From /home/cardosoo/venv/lib/python3.5/site-packages/tensorflow/python/framework/op_def_library.py:263: colocate_with (from tensorflow.python.framework.ops) is deprecated and will be removed in a future version.\n",
      "Instructions for updating:\n",
      "Colocations handled automatically by placer.\n",
      "WARNING:tensorflow:From /home/cardosoo/venv/lib/python3.5/site-packages/tensorflow/python/ops/math_ops.py:3066: to_int32 (from tensorflow.python.ops.math_ops) is deprecated and will be removed in a future version.\n",
      "Instructions for updating:\n",
      "Use tf.cast instead.\n",
      "processing fold # 1\n",
      "processing fold # 2\n",
      "processing fold # 3\n"
     ]
    }
   ],
   "source": [
    "import numpy as np\n",
    "units, layerz, metric = 64,1,'mae'\n",
    "k = 4\n",
    "num_val_samples = len(train_data) // k\n",
    "num_epochs = 100\n",
    "all_scores = []\n",
    "all_losses = []\n",
    "\n",
    "for i in range(k):\n",
    "    print('processing fold #', i)\n",
    "    start = i*num_val_samples\n",
    "    stop = (i + 1) * num_val_samples\n",
    "    val_data = train_data[start:stop]\n",
    "    val_target = train_targets[start:stop]\n",
    "    \n",
    "    partial_train_data = np.concatenate( (train_data[:start], train_data[stop:]) ,axis = 0)\n",
    "    partial_train_target = np.concatenate( (train_targets[:start],train_targets[stop:]), axis = 0) \n",
    "    \n",
    "    model = build_model(units, layerz, metric)\n",
    "    model.fit(partial_train_data, partial_train_target, epochs = num_epochs, batch_size = 1, verbose = 0)\n",
    "    val_mse, val_mae = model.evaluate(val_data, val_target, verbose=0)\n",
    "    all_scores.append(val_mae)\n",
    "    all_losses.append(val_mse)\n",
    "    "
   ]
  },
  {
   "cell_type": "code",
   "execution_count": 10,
   "metadata": {},
   "outputs": [
    {
     "name": "stdout",
     "output_type": "stream",
     "text": [
      "2.3649787384979795\n"
     ]
    },
    {
     "data": {
      "text/plain": [
       "[2.0725284803031694, 2.077635403906945, 2.891906447929911, 2.4178446218518928]"
      ]
     },
     "execution_count": 10,
     "metadata": {},
     "output_type": "execute_result"
    }
   ],
   "source": [
    "print(np.mean(all_scores))\n",
    "all_scores"
   ]
  },
  {
   "cell_type": "code",
   "execution_count": 11,
   "metadata": {},
   "outputs": [
    {
     "name": "stdout",
     "output_type": "stream",
     "text": [
      "12.125142448609417\n"
     ]
    },
    {
     "data": {
      "text/plain": [
       "[7.91615340261176, 8.035695576431728, 20.401135104717593, 12.147585710676589]"
      ]
     },
     "execution_count": 11,
     "metadata": {},
     "output_type": "execute_result"
    }
   ],
   "source": [
    "print(np.mean(all_losses))\n",
    "all_losses"
   ]
  },
  {
   "cell_type": "markdown",
   "metadata": {},
   "source": [
    "calculate average of the per - epoch MAE scores for all folds"
   ]
  },
  {
   "cell_type": "code",
<<<<<<< HEAD
   "execution_count": 6,
=======
   "execution_count": 9,
>>>>>>> 056e833f599fe75178e0670ed767ece0b73f8932
   "metadata": {},
   "outputs": [
    {
     "name": "stdout",
     "output_type": "stream",
     "text": [
      "processing fold # 0\n",
      "WARNING:tensorflow:From /home/cardosoo/venv/lib/python3.5/site-packages/tensorflow/python/framework/op_def_library.py:263: colocate_with (from tensorflow.python.framework.ops) is deprecated and will be removed in a future version.\n",
      "Instructions for updating:\n",
      "Colocations handled automatically by placer.\n",
      "WARNING:tensorflow:From /home/cardosoo/venv/lib/python3.5/site-packages/tensorflow/python/ops/math_ops.py:3066: to_int32 (from tensorflow.python.ops.math_ops) is deprecated and will be removed in a future version.\n",
      "Instructions for updating:\n",
      "Use tf.cast instead.\n",
      "processing fold # 1\n",
      "processing fold # 2\n",
      "processing fold # 3\n"
     ]
    }
   ],
   "source": [
    "import numpy as np\n",
    "units, layerz, metric = 64,1,'mae'\n",
    "k = 4\n",
    "num_val_samples = len(train_data) // k\n",
    "num_epochs = 500\n",
    "all_scores = []\n",
    "all_losses = []\n",
    "all_mae_histories = []\n",
    "\n",
    "for i in range(k):\n",
    "    print('processing fold #', i)\n",
    "    start = i*num_val_samples\n",
    "    stop = (i + 1) * num_val_samples\n",
    "    val_data = train_data[start:stop]\n",
    "    val_target = train_targets[start:stop]\n",
    "    \n",
    "    partial_train_data = np.concatenate( (train_data[:start], train_data[stop:]) ,axis = 0)\n",
    "    partial_train_target = np.concatenate( (train_targets[:start],train_targets[stop:]), axis = 0) \n",
    "    \n",
    "    model = build_model(units, layerz, metric)\n",
    "    history = model.fit(partial_train_data, partial_train_target, epochs = num_epochs, batch_size = 1, verbose = 0,\n",
    "                        validation_data = (val_data, val_target) )\n",
<<<<<<< HEAD
    "\n",
=======
    "  \n",
    "\n",
    "    \n",
    "    all_mae_history = history.history['val_mean_absolute_error']\n",
>>>>>>> 056e833f599fe75178e0670ed767ece0b73f8932
    "    \n",
    "    mae_history = history.history['val_mean_absolute_error']\n",
    "    all_mae_histories.append(mae_history)\n",
    "    "
   ]
  },
  {
   "cell_type": "code",
   "execution_count": 7,
   "metadata": {},
   "outputs": [
    {
     "data": {
      "text/plain": [
       "4"
      ]
     },
     "execution_count": 7,
     "metadata": {},
     "output_type": "execute_result"
    }
   ],
   "source": [
    "len(all_mae_histories)"
   ]
  },
  {
   "cell_type": "code",
   "execution_count": 8,
   "metadata": {},
   "outputs": [
    {
     "data": {
      "text/plain": [
       "500"
      ]
     },
     "execution_count": 8,
     "metadata": {},
     "output_type": "execute_result"
    }
   ],
   "source": [
    "average_mae_histories = [np.mean([x[i] for x in all_mae_histories]) for i in range(num_epochs)]\n",
    "len(average_mae_histories)"
   ]
  },
  {
   "cell_type": "markdown",
   "metadata": {},
   "source": [
    "Without smoothing"
   ]
  },
  {
   "cell_type": "code",
   "execution_count": 11,
   "metadata": {},
   "outputs": [
    {
     "data": {
      "image/png": "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\n",
      "text/plain": [
       "<Figure size 432x288 with 1 Axes>"
      ]
     },
     "metadata": {
      "needs_background": "light"
     },
     "output_type": "display_data"
    }
   ],
   "source": [
    "import matplotlib.pyplot as plt\n",
    "epoch = range(1,len(average_mae_histories)+1) \n",
    "plt.plot(epoch,average_mae_histories)\n",
    "plt.xlabel(\"Epoch\")\n",
    "plt.ylabel(\"Validation MAE\")\n",
    "plt.show()\n",
    "\n"
   ]
  },
  {
   "cell_type": "markdown",
   "metadata": {},
   "source": [
    "With smoothing"
   ]
  },
  {
   "cell_type": "code",
   "execution_count": 17,
   "metadata": {},
   "outputs": [
    {
     "data": {
      "image/png": "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\n",
      "text/plain": [
       "<Figure size 432x288 with 1 Axes>"
      ]
     },
     "metadata": {
      "needs_background": "light"
     },
     "output_type": "display_data"
    }
   ],
   "source": [
    "def smooth_curve(points, factor=0.9):\n",
    "    smoothed_points = []\n",
    "    for point in points:\n",
    "        if smoothed_points:\n",
    "            previous = smoothed_points[-1]\n",
    "            smoothed_points.append(previous * factor + point*(1 - factor))\n",
    "        else:\n",
    "            smoothed_points.append(point)\n",
    "    return smoothed_points\n",
    "\n",
    "smooth_mae_history = smooth_curve(average_mae_histories[10:])\n",
    "\n",
    "plt.plot(range(1, len(smooth_mae_history) +1), smooth_mae_history)\n",
    "plt.xlabel('Epoch')\n",
    "plt.ylabel('Validation MAE')\n",
    "plt.show()"
   ]
  },
  {
   "cell_type": "markdown",
   "metadata": {},
   "source": [
    "from the above graph i can see that having a around 80 epochs would give me the lowest Validation MAE... there i'll buld a model using it"
   ]
  },
  {
   "cell_type": "code",
   "execution_count": 22,
   "metadata": {},
   "outputs": [
    {
     "data": {
      "text/plain": [
       "<keras.callbacks.History at 0x7fc36c529208>"
      ]
     },
     "execution_count": 22,
     "metadata": {},
     "output_type": "execute_result"
    }
   ],
   "source": [
    "model = build_model(units,layerz,metric)\n",
    "model.fit(train_data, train_targets, epochs = 81, verbose = 0 , batch_size = 16) #not sure how batch_size_effects training"
   ]
  },
  {
   "cell_type": "code",
   "execution_count": 23,
   "metadata": {},
   "outputs": [
    {
     "name": "stdout",
     "output_type": "stream",
     "text": [
      "102/102 [==============================] - 0s 420us/step\n"
     ]
    }
   ],
   "source": [
    "test_mes_score, test_mae_score = model.evaluate(test_data, test_targets)"
   ]
  },
  {
   "cell_type": "code",
   "execution_count": 24,
   "metadata": {},
   "outputs": [
    {
     "data": {
      "text/plain": [
       "2.5872122072706034"
      ]
     },
     "execution_count": 24,
     "metadata": {},
     "output_type": "execute_result"
    }
   ],
   "source": [
    "test_mae_score"
   ]
  },
  {
   "cell_type": "code",
   "execution_count": null,
   "metadata": {},
   "outputs": [],
   "source": []
  }
 ],
 "metadata": {
  "kernelspec": {
   "display_name": "Python 3",
   "language": "python",
   "name": "python3"
  },
  "language_info": {
   "codemirror_mode": {
    "name": "ipython",
    "version": 3
   },
   "file_extension": ".py",
   "mimetype": "text/x-python",
   "name": "python",
   "nbconvert_exporter": "python",
   "pygments_lexer": "ipython3",
   "version": "3.7.3"
  }
 },
 "nbformat": 4,
 "nbformat_minor": 2
}
