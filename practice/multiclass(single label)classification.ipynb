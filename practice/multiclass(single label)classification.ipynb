{
 "cells": [
  {
   "cell_type": "markdown",
   "metadata": {},
   "source": [
    "Note: if a data point could belong to multipe categories i'd be facing a multilabel, multiclass classification"
   ]
  },
  {
   "cell_type": "code",
   "execution_count": 1,
   "metadata": {},
   "outputs": [
    {
     "name": "stderr",
     "output_type": "stream",
     "text": [
      "Using TensorFlow backend.\n"
     ]
    },
    {
     "name": "stdout",
     "output_type": "stream",
     "text": [
      "8982 2246\n"
     ]
    }
   ],
   "source": [
    "from keras.datasets import reuters\n",
    "import numpy as np\n",
    "\n",
    "np_old_load = np.load\n",
    "\n",
    "np.load = lambda *a,**k: np_old_load(*a, allow_pickle = True, **k)\n",
    "\n",
    "(train_data, train_labels), (test_data, test_labels) = reuters.load_data(num_words = 10000)\n",
    "\n",
    "np.load = np_old_load\n",
    "print(len(train_data),len(test_data))"
   ]
  },
  {
   "cell_type": "markdown",
   "metadata": {},
   "source": [
    "Decoding newswire back to text"
   ]
  },
  {
   "cell_type": "code",
   "execution_count": 3,
   "metadata": {
    "scrolled": true
   },
   "outputs": [
    {
     "data": {
      "text/plain": [
       "'? lt aramco corp has accepted japanese ? to lift a higher proportion of arab heavy crude oil under term contracts in july oil industry sources said japanese companies requested a ratio of 80 pct arab heavy to 20 pct arab light under a term contract agreement with aramco for 100 000 barrels per day the sources said the contractual ratio is 30 pct heavy crude to 70 pct light japanese demand for heavy crude oil has increased substantially since the all japan ? union ceased ? into the northern mideast gulf last month causing problems with liftings of heavy kuwait and ? crudes reuter 3'"
      ]
     },
     "execution_count": 3,
     "metadata": {},
     "output_type": "execute_result"
    }
   ],
   "source": [
    "word_index = reuters.get_word_index()\n",
    "reverse_word_index = dict([(value, key ) for (key, value) in word_index.items()])\n",
    "' '.join([reverse_word_index.get(i -3, '?') for i in train_data[9]])"
   ]
  },
  {
   "cell_type": "code",
   "execution_count": 5,
   "metadata": {},
   "outputs": [
    {
     "data": {
      "text/plain": [
       "(8982, 56)"
      ]
     },
     "execution_count": 5,
     "metadata": {},
     "output_type": "execute_result"
    }
   ],
   "source": [
    "len(train_data),len(train_data[1])"
   ]
  },
  {
   "cell_type": "markdown",
   "metadata": {},
   "source": [
    "# Preparing the data\n",
    "encoding the data"
   ]
  },
  {
   "cell_type": "code",
   "execution_count": 4,
   "metadata": {},
   "outputs": [],
   "source": [
    "import numpy as np\n",
    "\n",
    "#one - hot - vector\n",
    "def vectorize_sequences(sequences, dimension = 10000):\n",
    "    results = np.zeros((len(sequences), dimension))\n",
    "    for i, sequence in enumerate(sequences):\n",
    "        results[i, sequence] = 1\n",
    "    return results\n",
    "x_train = vectorize_sequences(train_data)\n",
    "x_test = vectorize_sequences(test_data)"
   ]
  },
  {
   "cell_type": "markdown",
   "metadata": {},
   "source": [
    "encoding the labels a.k.a categorical encoding"
   ]
  },
  {
   "cell_type": "code",
   "execution_count": 5,
   "metadata": {},
   "outputs": [],
   "source": [
    "def to_one_hot(labels, dimension = 9):\n",
    "    results = np.zeros((len(labels), dimension))\n",
    "    for i, label in enumerate(labels):\n",
    "        results[i, label] = 1\n",
    "    return results\n",
    "one_hot_train_labels = to_one_hot(train_labels)\n",
    "one_hot_test_labels = to_one_hot(test_labels)"
   ]
  },
  {
   "cell_type": "markdown",
   "metadata": {},
   "source": [
    "we can also use a built in function for this aswell"
   ]
  },
  {
   "cell_type": "code",
   "execution_count": 6,
   "metadata": {},
   "outputs": [],
   "source": [
    "from keras.utils.np_utils import to_categorical\n",
    "one_hot_train_labels = to_categorical(train_labels)\n",
    "one_hot_test_labels = to_categorical(test_labels)"
   ]
  },
  {
   "cell_type": "markdown",
   "metadata": {},
   "source": [
    "Building your Network"
   ]
  },
  {
   "cell_type": "code",
   "execution_count": 7,
   "metadata": {},
   "outputs": [
    {
     "name": "stdout",
     "output_type": "stream",
     "text": [
      "WARNING:tensorflow:From /home/cardosoo/venv/lib/python3.5/site-packages/tensorflow/python/framework/op_def_library.py:263: colocate_with (from tensorflow.python.framework.ops) is deprecated and will be removed in a future version.\n",
      "Instructions for updating:\n",
      "Colocations handled automatically by placer.\n"
     ]
    }
   ],
   "source": [
    "from keras import layers\n",
    "from keras import models\n",
    "\n",
    "model = models.Sequential()\n",
    "model.add(layers.Dense(64, activation = 'relu', input_shape = (10000,)))\n",
    "model.add(layers.Dense(64, activation = 'relu'))\n",
    "model.add(layers.Dense(46, activation = 'softmax'))"
   ]
  },
  {
   "cell_type": "markdown",
   "metadata": {},
   "source": [
    "Compiling the model"
   ]
  },
  {
   "cell_type": "code",
   "execution_count": 8,
   "metadata": {},
   "outputs": [],
   "source": [
    "model.compile(optimizer= 'rmsprop', loss = 'categorical_crossentropy', metrics =['accuracy'])"
   ]
  },
  {
   "cell_type": "code",
   "execution_count": 9,
   "metadata": {},
   "outputs": [],
   "source": [
    "x_val = x_train[:1000]\n",
    "partial_x_train = x_train[1000:]\n",
    "\n",
    "y_val = one_hot_train_labels[:1000]\n",
    "partial_y_train = one_hot_train_labels[1000:]\n"
   ]
  },
  {
   "cell_type": "code",
   "execution_count": 10,
   "metadata": {},
   "outputs": [
    {
     "data": {
      "text/plain": [
       "(8982, 10000)"
      ]
     },
     "execution_count": 10,
     "metadata": {},
     "output_type": "execute_result"
    }
   ],
   "source": [
    "x_train.shape"
   ]
  },
  {
   "cell_type": "code",
   "execution_count": 11,
   "metadata": {},
   "outputs": [
    {
     "name": "stdout",
     "output_type": "stream",
     "text": [
      "WARNING:tensorflow:From /home/cardosoo/venv/lib/python3.5/site-packages/tensorflow/python/ops/math_ops.py:3066: to_int32 (from tensorflow.python.ops.math_ops) is deprecated and will be removed in a future version.\n",
      "Instructions for updating:\n",
      "Use tf.cast instead.\n",
      "Train on 7982 samples, validate on 1000 samples\n",
      "Epoch 1/20\n",
      "7982/7982 [==============================] - 1s 83us/step - loss: 2.5322 - acc: 0.4955 - val_loss: 1.7208 - val_acc: 0.6120\n",
      "Epoch 2/20\n",
      "7982/7982 [==============================] - 0s 60us/step - loss: 1.4452 - acc: 0.6879 - val_loss: 1.3459 - val_acc: 0.7060\n",
      "Epoch 3/20\n",
      "7982/7982 [==============================] - 0s 61us/step - loss: 1.0953 - acc: 0.7651 - val_loss: 1.1708 - val_acc: 0.7430\n",
      "Epoch 4/20\n",
      "7982/7982 [==============================] - 0s 59us/step - loss: 0.8697 - acc: 0.8165 - val_loss: 1.0793 - val_acc: 0.7590\n",
      "Epoch 5/20\n",
      "7982/7982 [==============================] - 0s 60us/step - loss: 0.7034 - acc: 0.8472 - val_loss: 0.9844 - val_acc: 0.7810\n",
      "Epoch 6/20\n",
      "7982/7982 [==============================] - 0s 60us/step - loss: 0.5667 - acc: 0.8802 - val_loss: 0.9411 - val_acc: 0.8040\n",
      "Epoch 7/20\n",
      "7982/7982 [==============================] - 0s 60us/step - loss: 0.4581 - acc: 0.9048 - val_loss: 0.9083 - val_acc: 0.8020\n",
      "Epoch 8/20\n",
      "7982/7982 [==============================] - 0s 60us/step - loss: 0.3695 - acc: 0.9231 - val_loss: 0.9363 - val_acc: 0.7890\n",
      "Epoch 9/20\n",
      "7982/7982 [==============================] - 0s 60us/step - loss: 0.3032 - acc: 0.9315 - val_loss: 0.8917 - val_acc: 0.8090\n",
      "Epoch 10/20\n",
      "7982/7982 [==============================] - 0s 60us/step - loss: 0.2537 - acc: 0.9414 - val_loss: 0.9071 - val_acc: 0.8110\n",
      "Epoch 11/20\n",
      "7982/7982 [==============================] - 0s 60us/step - loss: 0.2187 - acc: 0.9471 - val_loss: 0.9177 - val_acc: 0.8130\n",
      "Epoch 12/20\n",
      "7982/7982 [==============================] - 1s 63us/step - loss: 0.1873 - acc: 0.9508 - val_loss: 0.9027 - val_acc: 0.8130\n",
      "Epoch 13/20\n",
      "7982/7982 [==============================] - 0s 62us/step - loss: 0.1703 - acc: 0.9521 - val_loss: 0.9323 - val_acc: 0.8110\n",
      "Epoch 14/20\n",
      "7982/7982 [==============================] - 0s 60us/step - loss: 0.1536 - acc: 0.9554 - val_loss: 0.9689 - val_acc: 0.8050\n",
      "Epoch 15/20\n",
      "7982/7982 [==============================] - 0s 59us/step - loss: 0.1390 - acc: 0.9560 - val_loss: 0.9686 - val_acc: 0.8150\n",
      "Epoch 16/20\n",
      "7982/7982 [==============================] - 0s 60us/step - loss: 0.1313 - acc: 0.9560 - val_loss: 1.0220 - val_acc: 0.8060\n",
      "Epoch 17/20\n",
      "7982/7982 [==============================] - 0s 60us/step - loss: 0.1217 - acc: 0.9579 - val_loss: 1.0254 - val_acc: 0.7970\n",
      "Epoch 18/20\n",
      "7982/7982 [==============================] - 0s 60us/step - loss: 0.1198 - acc: 0.9582 - val_loss: 1.0430 - val_acc: 0.8060\n",
      "Epoch 19/20\n",
      "7982/7982 [==============================] - 0s 60us/step - loss: 0.1138 - acc: 0.9597 - val_loss: 1.0955 - val_acc: 0.7970\n",
      "Epoch 20/20\n",
      "7982/7982 [==============================] - 0s 59us/step - loss: 0.1111 - acc: 0.9593 - val_loss: 1.0674 - val_acc: 0.8020\n"
     ]
    }
   ],
   "source": [
    "history = model.fit(partial_x_train,\n",
    "                    partial_y_train,\n",
    "                    epochs=20,\n",
    "                    batch_size = 512,\n",
    "                    validation_data = (x_val, y_val))"
   ]
  },
  {
   "cell_type": "markdown",
   "metadata": {},
   "source": [
    "Plotting the training and validation loss"
   ]
  },
  {
   "cell_type": "code",
   "execution_count": 15,
   "metadata": {},
   "outputs": [
    {
     "data": {
      "image/png": "[encoded data removed]",
      "text/plain": [
       "<Figure size 432x288 with 1 Axes>"
      ]
     },
     "metadata": {
      "needs_background": "light"
     },
     "output_type": "display_data"
    }
   ],
   "source": [
    "import matplotlib.pyplot as plt\n",
    "\n",
    "loss = history.history['loss']\n",
    "val_loss = history.history['val_loss']\n",
    "\n",
    "epochs = range(1, len(loss) + 1)\n",
    "\n",
    "plt.plot(epochs, loss, 'bo', label = \"Training Loss\")\n",
    "plt.plot(epochs, val_loss, 'b', label = \"Validation Loss\")\n",
    "plt.xlabel('Epochs')\n",
    "plt.ylabel('Loss')\n",
    "plt.legend()\n",
    "\n",
    "plt.show()"
   ]
  },
  {
   "cell_type": "markdown",
   "metadata": {},
   "source": [
    "plot training and validation accuracy"
   ]
  },
  {
   "cell_type": "code",
   "execution_count": 16,
   "metadata": {},
   "outputs": [
    {
     "data": {
      "image/png": "[encoded data removed]",
      "text/plain": [
       "<Figure size 432x288 with 1 Axes>"
      ]
     },
     "metadata": {
      "needs_background": "light"
     },
     "output_type": "display_data"
    }
   ],
   "source": [
    "acc = history.history['acc']\n",
    "val_acc = history.history['val_acc']\n",
    "\n",
    "epochs = range(1, len(loss) + 1)\n",
    "\n",
    "plt.plot(epochs, acc, 'bo', label = \"Training Accuracy\")\n",
    "plt.plot(epochs, val_acc, 'b', label = \"Validation Accuracy\")\n",
    "plt.xlabel('Epochs')\n",
    "plt.ylabel('Accuracy')\n",
    "plt.legend()\n",
    "\n",
    "plt.show()"
   ]
  },
  {
   "cell_type": "markdown",
   "metadata": {},
   "source": [
    "Retraining a model from scratch"
   ]
  },
  {
   "cell_type": "code",
   "execution_count": 18,
   "metadata": {},
   "outputs": [
    {
     "name": "stdout",
     "output_type": "stream",
     "text": [
      "Epoch 1/9\n",
      "8982/8982 [==============================] - 1s 72us/step - loss: 2.6673 - acc: 0.5235\n",
      "Epoch 2/9\n",
      "8982/8982 [==============================] - 1s 56us/step - loss: 1.4144 - acc: 0.7130\n",
      "Epoch 3/9\n",
      "8982/8982 [==============================] - 1s 62us/step - loss: 1.0430 - acc: 0.7833\n",
      "Epoch 4/9\n",
      "8982/8982 [==============================] - 1s 57us/step - loss: 0.8231 - acc: 0.8271\n",
      "Epoch 5/9\n",
      "8982/8982 [==============================] - 1s 58us/step - loss: 0.6563 - acc: 0.8577\n",
      "Epoch 6/9\n",
      "8982/8982 [==============================] - 1s 57us/step - loss: 0.5294 - acc: 0.8854\n",
      "Epoch 7/9\n",
      "8982/8982 [==============================] - 0s 54us/step - loss: 0.4235 - acc: 0.9115\n",
      "Epoch 8/9\n",
      "8982/8982 [==============================] - 0s 55us/step - loss: 0.3474 - acc: 0.9276\n",
      "Epoch 9/9\n",
      "8982/8982 [==============================] - 0s 55us/step - loss: 0.2933 - acc: 0.9365\n"
     ]
    }
   ],
   "source": [
    "model = models.Sequential()\n",
    "model.add(layers.Dense(64, activation = 'relu', input_shape = (10000,)))\n",
    "model.add(layers.Dense(64, activation = 'relu'))\n",
    "model.add(layers.Dense(46, activation = 'softmax'))\n",
    "model.compile(optimizer= 'rmsprop', loss = 'categorical_crossentropy', metrics =['accuracy'])\n",
    "history = model.fit(x_train,\n",
    "                    one_hot_train_labels,\n",
    "                    epochs=9,\n",
    "                    batch_size = 512,\n",
    "                    )"
   ]
  },
  {
   "cell_type": "code",
   "execution_count": 19,
   "metadata": {},
   "outputs": [
    {
     "name": "stdout",
     "output_type": "stream",
     "text": [
      "2246/2246 [==============================] - 0s 69us/step\n"
     ]
    }
   ],
   "source": [
    "results = model.evaluate(x_test, one_hot_test_labels)"
   ]
  },
  {
   "cell_type": "code",
   "execution_count": 21,
   "metadata": {},
   "outputs": [
    {
     "name": "stdout",
     "output_type": "stream",
     "text": [
      "[0.9475042410228046, 0.7934105075159353]\n"
     ]
    },
    {
     "data": {
      "text/plain": [
       "['loss', 'acc']"
      ]
     },
     "execution_count": 21,
     "metadata": {},
     "output_type": "execute_result"
    }
   ],
   "source": [
    "print(results)\n",
    "model.metrics_names"
   ]
  },
  {
   "cell_type": "markdown",
   "metadata": {},
   "source": [
    "0.8 accuracy is better than chance\n",
    "Example"
   ]
  },
  {
   "cell_type": "code",
   "execution_count": 25,
   "metadata": {},
   "outputs": [
    {
     "data": {
      "text/plain": [
       "0.19412288512911843"
      ]
     },
     "execution_count": 25,
     "metadata": {},
     "output_type": "execute_result"
    }
   ],
   "source": [
    "import copy\n",
    "test_labels_copy = copy.copy(test_labels)\n",
    "np.random.shuffle(test_labels_copy)\n",
    "hits_array = test_labels_copy == test_labels\n",
    "np.float(np.sum(hits_array))/len(hits_array)"
   ]
  },
  {
   "cell_type": "markdown",
   "metadata": {},
   "source": [
    "The above random classifier is only 19 %"
   ]
  },
  {
   "cell_type": "markdown",
   "metadata": {},
   "source": [
    "Predictions "
   ]
  },
  {
   "cell_type": "code",
   "execution_count": 26,
   "metadata": {},
   "outputs": [],
   "source": [
    "predictions = model.predict(x_test)"
   ]
  },
  {
   "cell_type": "code",
   "execution_count": 36,
   "metadata": {},
   "outputs": [
    {
     "data": {
      "text/plain": [
       "(3, 3)"
      ]
     },
     "execution_count": 36,
     "metadata": {},
     "output_type": "execute_result"
    }
   ],
   "source": [
    "index = 2211\n",
    "np.argmax(predictions[index]), test_labels[index]"
   ]
  },
  {
   "cell_type": "code",
   "execution_count": 46,
   "metadata": {},
   "outputs": [
    {
     "data": {
      "text/plain": [
       "numpy.ndarray"
      ]
     },
     "execution_count": 46,
     "metadata": {},
     "output_type": "execute_result"
    }
   ],
   "source": [
    "y1 = np.array(train_labels)\n",
    "type(y1)"
   ]
  },
  {
   "cell_type": "code",
   "execution_count": 47,
   "metadata": {},
   "outputs": [
    {
     "data": {
      "text/plain": [
       "numpy.ndarray"
      ]
     },
     "execution_count": 47,
     "metadata": {},
     "output_type": "execute_result"
    }
   ],
   "source": [
    "type(train_labels)"
   ]
  },
  {
   "cell_type": "code",
   "execution_count": 49,
   "metadata": {},
   "outputs": [],
   "source": [
    "def model_exe(units, layerz):\n",
    "    model = models.Sequential()\n",
    "    model.add(layers.Dense(units, activation = 'relu', input_shape = (10000,)))\n",
    "    for layer in range(layerz):\n",
    "        model.add(layers.Dense(units, activation = 'relu'))\n",
    "    model.add(layers.Dense(46, activation = 'softmax'))\n",
    "    model.compile(optimizer= 'rmsprop', loss = 'categorical_crossentropy', metrics =['accuracy'])\n",
    "    history = model.fit(partial_x_train,\n",
    "                    partial_y_train,\n",
    "                    epochs=20,\n",
    "                    batch_size = 512,\n",
    "                    validation_data = (x_val, y_val))\n",
    "    final = len(history.history['val_acc']) -1\n",
    "    return history.history['val_acc'][final]"
   ]
  },
  {
   "cell_type": "markdown",
   "metadata": {},
   "source": []
  },
  {
   "cell_type": "code",
   "execution_count": 50,
   "metadata": {},
   "outputs": [
    {
     "name": "stdout",
     "output_type": "stream",
     "text": [
      "Train on 7982 samples, validate on 1000 samples\n",
      "Epoch 1/20\n",
      "7982/7982 [==============================] - 1s 92us/step - loss: 2.1589 - acc: 0.5719 - val_loss: 1.3984 - val_acc: 0.6850\n",
      "Epoch 2/20\n",
      "7982/7982 [==============================] - 1s 74us/step - loss: 1.1391 - acc: 0.7557 - val_loss: 1.1150 - val_acc: 0.7630\n",
      "Epoch 3/20\n",
      "7982/7982 [==============================] - 1s 79us/step - loss: 0.7893 - acc: 0.8330 - val_loss: 0.9991 - val_acc: 0.7940\n",
      "Epoch 4/20\n",
      "7982/7982 [==============================] - 1s 73us/step - loss: 0.5678 - acc: 0.8846 - val_loss: 0.9556 - val_acc: 0.7940\n",
      "Epoch 5/20\n",
      "7982/7982 [==============================] - 1s 72us/step - loss: 0.4263 - acc: 0.9094 - val_loss: 0.8996 - val_acc: 0.8190\n",
      "Epoch 6/20\n",
      "7982/7982 [==============================] - 1s 72us/step - loss: 0.3178 - acc: 0.9331 - val_loss: 0.9028 - val_acc: 0.8130\n",
      "Epoch 7/20\n",
      "7982/7982 [==============================] - 1s 74us/step - loss: 0.2556 - acc: 0.9434 - val_loss: 0.8883 - val_acc: 0.8240\n",
      "Epoch 8/20\n",
      "7982/7982 [==============================] - 1s 77us/step - loss: 0.2038 - acc: 0.9506 - val_loss: 0.9057 - val_acc: 0.8240\n",
      "Epoch 9/20\n",
      "7982/7982 [==============================] - 1s 73us/step - loss: 0.1792 - acc: 0.9516 - val_loss: 0.9671 - val_acc: 0.8130\n",
      "Epoch 10/20\n",
      "7982/7982 [==============================] - 1s 72us/step - loss: 0.1629 - acc: 0.9541 - val_loss: 0.9601 - val_acc: 0.8180\n",
      "Epoch 11/20\n",
      "7982/7982 [==============================] - 1s 72us/step - loss: 0.1491 - acc: 0.9560 - val_loss: 0.9488 - val_acc: 0.8150\n",
      "Epoch 12/20\n",
      "7982/7982 [==============================] - 1s 72us/step - loss: 0.1394 - acc: 0.9567 - val_loss: 1.0080 - val_acc: 0.8120\n",
      "Epoch 13/20\n",
      "7982/7982 [==============================] - 1s 72us/step - loss: 0.1330 - acc: 0.9570 - val_loss: 0.9909 - val_acc: 0.8140\n",
      "Epoch 14/20\n",
      "7982/7982 [==============================] - 1s 71us/step - loss: 0.1228 - acc: 0.9577 - val_loss: 1.0125 - val_acc: 0.8130\n",
      "Epoch 15/20\n",
      "7982/7982 [==============================] - 1s 72us/step - loss: 0.1229 - acc: 0.9565 - val_loss: 1.0171 - val_acc: 0.8070\n",
      "Epoch 16/20\n",
      "7982/7982 [==============================] - 1s 72us/step - loss: 0.1219 - acc: 0.9588 - val_loss: 1.0539 - val_acc: 0.8080\n",
      "Epoch 17/20\n",
      "7982/7982 [==============================] - 1s 73us/step - loss: 0.1182 - acc: 0.9565 - val_loss: 1.0151 - val_acc: 0.8160\n",
      "Epoch 18/20\n",
      "7982/7982 [==============================] - 1s 73us/step - loss: 0.1134 - acc: 0.9565 - val_loss: 1.0465 - val_acc: 0.8060\n",
      "Epoch 19/20\n",
      "7982/7982 [==============================] - 1s 72us/step - loss: 0.1075 - acc: 0.9577 - val_loss: 1.1076 - val_acc: 0.8030\n",
      "Epoch 20/20\n",
      "7982/7982 [==============================] - 1s 76us/step - loss: 0.1044 - acc: 0.9588 - val_loss: 1.1260 - val_acc: 0.8010\n"
     ]
    },
    {
     "data": {
      "text/plain": [
       "0.8010000076293945"
      ]
     },
     "execution_count": 50,
     "metadata": {},
     "output_type": "execute_result"
    }
   ],
   "source": [
    "model_exe(128, 1)"
   ]
  },
  {
   "cell_type": "code",
   "execution_count": 51,
   "metadata": {},
   "outputs": [
    {
     "name": "stdout",
     "output_type": "stream",
     "text": [
      "Train on 7982 samples, validate on 1000 samples\n",
      "Epoch 1/20\n",
      "7982/7982 [==============================] - 1s 105us/step - loss: 2.3470 - acc: 0.4315 - val_loss: 1.5320 - val_acc: 0.6430\n",
      "Epoch 2/20\n",
      "7982/7982 [==============================] - 1s 74us/step - loss: 1.3130 - acc: 0.6999 - val_loss: 1.3167 - val_acc: 0.6820\n",
      "Epoch 3/20\n",
      "7982/7982 [==============================] - 1s 73us/step - loss: 1.0022 - acc: 0.7556 - val_loss: 1.1522 - val_acc: 0.7270\n",
      "Epoch 4/20\n",
      "7982/7982 [==============================] - 1s 74us/step - loss: 0.7647 - acc: 0.8138 - val_loss: 1.0906 - val_acc: 0.7640\n",
      "Epoch 5/20\n",
      "7982/7982 [==============================] - 1s 73us/step - loss: 0.5865 - acc: 0.8513 - val_loss: 1.2563 - val_acc: 0.7300\n",
      "Epoch 6/20\n",
      "7982/7982 [==============================] - 1s 73us/step - loss: 0.4664 - acc: 0.8815 - val_loss: 1.0466 - val_acc: 0.7990\n",
      "Epoch 7/20\n",
      "7982/7982 [==============================] - 1s 73us/step - loss: 0.3743 - acc: 0.9095 - val_loss: 1.1197 - val_acc: 0.7830\n",
      "Epoch 8/20\n",
      "7982/7982 [==============================] - 1s 74us/step - loss: 0.2742 - acc: 0.9335 - val_loss: 1.3072 - val_acc: 0.7670\n",
      "Epoch 9/20\n",
      "7982/7982 [==============================] - 1s 73us/step - loss: 0.2362 - acc: 0.9429 - val_loss: 1.3329 - val_acc: 0.7350\n",
      "Epoch 10/20\n",
      "7982/7982 [==============================] - 1s 74us/step - loss: 0.1860 - acc: 0.9503 - val_loss: 1.1841 - val_acc: 0.7800\n",
      "Epoch 11/20\n",
      "7982/7982 [==============================] - 1s 74us/step - loss: 0.1757 - acc: 0.9520 - val_loss: 1.2852 - val_acc: 0.7900\n",
      "Epoch 12/20\n",
      "7982/7982 [==============================] - 1s 73us/step - loss: 0.1482 - acc: 0.9544 - val_loss: 1.3458 - val_acc: 0.7690\n",
      "Epoch 13/20\n",
      "7982/7982 [==============================] - 1s 73us/step - loss: 0.1385 - acc: 0.9559 - val_loss: 1.2479 - val_acc: 0.8030\n",
      "Epoch 14/20\n",
      "7982/7982 [==============================] - 1s 73us/step - loss: 0.1639 - acc: 0.9508 - val_loss: 1.1740 - val_acc: 0.7940\n",
      "Epoch 15/20\n",
      "7982/7982 [==============================] - 1s 73us/step - loss: 0.1106 - acc: 0.9588 - val_loss: 1.2808 - val_acc: 0.7890\n",
      "Epoch 16/20\n",
      "7982/7982 [==============================] - 1s 73us/step - loss: 0.1156 - acc: 0.9569 - val_loss: 1.2359 - val_acc: 0.7840\n",
      "Epoch 17/20\n",
      "7982/7982 [==============================] - 1s 73us/step - loss: 0.1075 - acc: 0.9569 - val_loss: 1.3513 - val_acc: 0.7750\n",
      "Epoch 18/20\n",
      "7982/7982 [==============================] - 1s 73us/step - loss: 0.1112 - acc: 0.9584 - val_loss: 1.3405 - val_acc: 0.8010\n",
      "Epoch 19/20\n",
      "7982/7982 [==============================] - 1s 74us/step - loss: 0.1020 - acc: 0.9578 - val_loss: 1.4917 - val_acc: 0.7790\n",
      "Epoch 20/20\n",
      "7982/7982 [==============================] - 1s 76us/step - loss: 0.1013 - acc: 0.9587 - val_loss: 1.3244 - val_acc: 0.7930\n"
     ]
    },
    {
     "data": {
      "text/plain": [
       "0.7929999966621399"
      ]
     },
     "execution_count": 51,
     "metadata": {},
     "output_type": "execute_result"
    }
   ],
   "source": [
    "model_exe(128, 4)"
   ]
  },
  {
   "cell_type": "code",
   "execution_count": 52,
   "metadata": {},
   "outputs": [
    {
     "name": "stdout",
     "output_type": "stream",
     "text": [
      "Train on 7982 samples, validate on 1000 samples\n",
      "Epoch 1/20\n",
      "7982/7982 [==============================] - 1s 120us/step - loss: 2.5673 - acc: 0.3657 - val_loss: 1.7370 - val_acc: 0.5400\n",
      "Epoch 2/20\n",
      "7982/7982 [==============================] - 1s 75us/step - loss: 1.7035 - acc: 0.5341 - val_loss: 1.6098 - val_acc: 0.5550\n",
      "Epoch 3/20\n",
      "7982/7982 [==============================] - 1s 75us/step - loss: 1.4342 - acc: 0.6200 - val_loss: 1.4362 - val_acc: 0.6670\n",
      "Epoch 4/20\n",
      "7982/7982 [==============================] - 1s 76us/step - loss: 1.2405 - acc: 0.6729 - val_loss: 1.3257 - val_acc: 0.6860\n",
      "Epoch 5/20\n",
      "7982/7982 [==============================] - 1s 75us/step - loss: 1.0834 - acc: 0.7167 - val_loss: 1.2709 - val_acc: 0.7030\n",
      "Epoch 6/20\n",
      "7982/7982 [==============================] - 1s 75us/step - loss: 0.9242 - acc: 0.7516 - val_loss: 1.2842 - val_acc: 0.7040\n",
      "Epoch 7/20\n",
      "7982/7982 [==============================] - 1s 76us/step - loss: 0.8670 - acc: 0.7643 - val_loss: 1.2072 - val_acc: 0.7210\n",
      "Epoch 8/20\n",
      "7982/7982 [==============================] - 1s 75us/step - loss: 0.6997 - acc: 0.8038 - val_loss: 1.2683 - val_acc: 0.7350\n",
      "Epoch 9/20\n",
      "7982/7982 [==============================] - 1s 75us/step - loss: 0.6915 - acc: 0.8077 - val_loss: 1.2469 - val_acc: 0.7490\n",
      "Epoch 10/20\n",
      "7982/7982 [==============================] - 1s 75us/step - loss: 0.5404 - acc: 0.8448 - val_loss: 1.4871 - val_acc: 0.6410\n",
      "Epoch 11/20\n",
      "7982/7982 [==============================] - 1s 75us/step - loss: 0.5090 - acc: 0.8543 - val_loss: 1.2178 - val_acc: 0.7320\n",
      "Epoch 12/20\n",
      "7982/7982 [==============================] - 1s 75us/step - loss: 0.4494 - acc: 0.8733 - val_loss: 1.3461 - val_acc: 0.7630\n",
      "Epoch 13/20\n",
      "7982/7982 [==============================] - 1s 76us/step - loss: 0.4054 - acc: 0.8849 - val_loss: 1.3194 - val_acc: 0.7500\n",
      "Epoch 14/20\n",
      "7982/7982 [==============================] - 1s 78us/step - loss: 0.3267 - acc: 0.9032 - val_loss: 1.7187 - val_acc: 0.6750\n",
      "Epoch 15/20\n",
      "7982/7982 [==============================] - 1s 76us/step - loss: 0.4149 - acc: 0.8846 - val_loss: 1.4298 - val_acc: 0.7490\n",
      "Epoch 16/20\n",
      "7982/7982 [==============================] - 1s 74us/step - loss: 0.2919 - acc: 0.9137 - val_loss: 2.0491 - val_acc: 0.6820\n",
      "Epoch 17/20\n",
      "7982/7982 [==============================] - 1s 76us/step - loss: 0.2944 - acc: 0.9134 - val_loss: 1.5769 - val_acc: 0.7560\n",
      "Epoch 18/20\n",
      "7982/7982 [==============================] - 1s 75us/step - loss: 0.3330 - acc: 0.9131 - val_loss: 1.5046 - val_acc: 0.7560\n",
      "Epoch 19/20\n",
      "7982/7982 [==============================] - 1s 75us/step - loss: 0.3516 - acc: 0.8974 - val_loss: 1.2349 - val_acc: 0.7720\n",
      "Epoch 20/20\n",
      "7982/7982 [==============================] - 1s 75us/step - loss: 0.1743 - acc: 0.9475 - val_loss: 1.6969 - val_acc: 0.7400\n"
     ]
    },
    {
     "data": {
      "text/plain": [
       "0.7399999985694885"
      ]
     },
     "execution_count": 52,
     "metadata": {},
     "output_type": "execute_result"
    }
   ],
   "source": [
    "model_exe(128, 8)"
   ]
  },
  {
   "cell_type": "code",
   "execution_count": 53,
   "metadata": {},
   "outputs": [
    {
     "name": "stdout",
     "output_type": "stream",
     "text": [
      "Train on 7982 samples, validate on 1000 samples\n",
      "Epoch 1/20\n",
      "7982/7982 [==============================] - 1s 96us/step - loss: 2.6389 - acc: 0.4201 - val_loss: 1.7627 - val_acc: 0.5690\n",
      "Epoch 2/20\n",
      "7982/7982 [==============================] - 0s 55us/step - loss: 1.5424 - acc: 0.6247 - val_loss: 1.4302 - val_acc: 0.6750\n",
      "Epoch 3/20\n",
      "7982/7982 [==============================] - 0s 54us/step - loss: 1.2348 - acc: 0.7134 - val_loss: 1.2922 - val_acc: 0.7010\n",
      "Epoch 4/20\n",
      "7982/7982 [==============================] - 0s 55us/step - loss: 1.0224 - acc: 0.7570 - val_loss: 1.2268 - val_acc: 0.7220\n",
      "Epoch 5/20\n",
      "7982/7982 [==============================] - 0s 54us/step - loss: 0.8673 - acc: 0.8012 - val_loss: 1.1327 - val_acc: 0.7660\n",
      "Epoch 6/20\n",
      "7982/7982 [==============================] - 0s 54us/step - loss: 0.6875 - acc: 0.8378 - val_loss: 1.1215 - val_acc: 0.7500\n",
      "Epoch 7/20\n",
      "7982/7982 [==============================] - 0s 54us/step - loss: 0.6123 - acc: 0.8444 - val_loss: 1.1195 - val_acc: 0.7690\n",
      "Epoch 8/20\n",
      "7982/7982 [==============================] - 0s 54us/step - loss: 0.4965 - acc: 0.8738 - val_loss: 1.1514 - val_acc: 0.7610\n",
      "Epoch 9/20\n",
      "7982/7982 [==============================] - 0s 54us/step - loss: 0.4326 - acc: 0.8894 - val_loss: 1.1970 - val_acc: 0.7580\n",
      "Epoch 10/20\n",
      "7982/7982 [==============================] - 0s 54us/step - loss: 0.3929 - acc: 0.9034 - val_loss: 1.0883 - val_acc: 0.7880\n",
      "Epoch 11/20\n",
      "7982/7982 [==============================] - 0s 54us/step - loss: 0.2894 - acc: 0.9280 - val_loss: 1.1585 - val_acc: 0.7780\n",
      "Epoch 12/20\n",
      "7982/7982 [==============================] - 0s 54us/step - loss: 0.2728 - acc: 0.9302 - val_loss: 1.2234 - val_acc: 0.7670\n",
      "Epoch 13/20\n",
      "7982/7982 [==============================] - 0s 54us/step - loss: 0.2284 - acc: 0.9442 - val_loss: 1.3299 - val_acc: 0.7590\n",
      "Epoch 14/20\n",
      "7982/7982 [==============================] - 0s 54us/step - loss: 0.2091 - acc: 0.9489 - val_loss: 1.2796 - val_acc: 0.7900\n",
      "Epoch 15/20\n",
      "7982/7982 [==============================] - 0s 55us/step - loss: 0.2265 - acc: 0.9449 - val_loss: 1.2516 - val_acc: 0.7870\n",
      "Epoch 16/20\n",
      "7982/7982 [==============================] - 0s 55us/step - loss: 0.1581 - acc: 0.9563 - val_loss: 1.4601 - val_acc: 0.7560\n",
      "Epoch 17/20\n",
      "7982/7982 [==============================] - 0s 54us/step - loss: 0.1645 - acc: 0.9562 - val_loss: 1.2643 - val_acc: 0.7800\n",
      "Epoch 18/20\n",
      "7982/7982 [==============================] - 0s 54us/step - loss: 0.1538 - acc: 0.9572 - val_loss: 1.2743 - val_acc: 0.7740\n",
      "Epoch 19/20\n",
      "7982/7982 [==============================] - 0s 54us/step - loss: 0.1467 - acc: 0.9564 - val_loss: 1.4648 - val_acc: 0.7620\n",
      "Epoch 20/20\n",
      "7982/7982 [==============================] - 0s 54us/step - loss: 0.1365 - acc: 0.9570 - val_loss: 1.3064 - val_acc: 0.7830\n"
     ]
    },
    {
     "data": {
      "text/plain": [
       "0.7829999904632569"
      ]
     },
     "execution_count": 53,
     "metadata": {},
     "output_type": "execute_result"
    }
   ],
   "source": [
    "model_exe(64, 4)"
   ]
  },
  {
   "cell_type": "code",
   "execution_count": 55,
   "metadata": {},
   "outputs": [
    {
     "name": "stdout",
     "output_type": "stream",
     "text": [
      "Train on 7982 samples, validate on 1000 samples\n",
      "Epoch 1/20\n",
      "7982/7982 [==============================] - 1s 135us/step - loss: 2.0593 - acc: 0.5395 - val_loss: 1.3249 - val_acc: 0.6800\n",
      "Epoch 2/20\n",
      "7982/7982 [==============================] - 1s 92us/step - loss: 1.0653 - acc: 0.7496 - val_loss: 1.0403 - val_acc: 0.7610\n",
      "Epoch 3/20\n",
      "7982/7982 [==============================] - 1s 92us/step - loss: 0.7068 - acc: 0.8373 - val_loss: 0.9275 - val_acc: 0.8000\n",
      "Epoch 4/20\n",
      "7982/7982 [==============================] - 1s 91us/step - loss: 0.4977 - acc: 0.8904 - val_loss: 0.9051 - val_acc: 0.8170\n",
      "Epoch 5/20\n",
      "7982/7982 [==============================] - 1s 91us/step - loss: 0.3279 - acc: 0.9208 - val_loss: 0.8825 - val_acc: 0.8210\n",
      "Epoch 6/20\n",
      "7982/7982 [==============================] - 1s 91us/step - loss: 0.2180 - acc: 0.9464 - val_loss: 1.1715 - val_acc: 0.7710\n",
      "Epoch 7/20\n",
      "7982/7982 [==============================] - 1s 92us/step - loss: 0.2029 - acc: 0.9481 - val_loss: 0.9208 - val_acc: 0.8280\n",
      "Epoch 8/20\n",
      "7982/7982 [==============================] - 1s 92us/step - loss: 0.1581 - acc: 0.9543 - val_loss: 1.0109 - val_acc: 0.8020\n",
      "Epoch 9/20\n",
      "7982/7982 [==============================] - 1s 91us/step - loss: 0.1556 - acc: 0.9535 - val_loss: 1.0504 - val_acc: 0.7910\n",
      "Epoch 10/20\n",
      "7982/7982 [==============================] - 1s 92us/step - loss: 0.1445 - acc: 0.9538 - val_loss: 0.9760 - val_acc: 0.8140\n",
      "Epoch 11/20\n",
      "7982/7982 [==============================] - 1s 92us/step - loss: 0.1243 - acc: 0.9545 - val_loss: 0.9978 - val_acc: 0.8030\n",
      "Epoch 12/20\n",
      "7982/7982 [==============================] - 1s 100us/step - loss: 0.1147 - acc: 0.9575 - val_loss: 1.0491 - val_acc: 0.8160\n",
      "Epoch 13/20\n",
      "7982/7982 [==============================] - 1s 100us/step - loss: 0.1137 - acc: 0.9559 - val_loss: 1.0216 - val_acc: 0.8040\n",
      "Epoch 14/20\n",
      "7982/7982 [==============================] - 1s 94us/step - loss: 0.1019 - acc: 0.9563 - val_loss: 1.0787 - val_acc: 0.8050\n",
      "Epoch 15/20\n",
      "7982/7982 [==============================] - 1s 93us/step - loss: 0.0967 - acc: 0.9577 - val_loss: 1.1623 - val_acc: 0.7970\n",
      "Epoch 16/20\n",
      "7982/7982 [==============================] - 1s 91us/step - loss: 0.0951 - acc: 0.9584 - val_loss: 1.0964 - val_acc: 0.8250\n",
      "Epoch 17/20\n",
      "7982/7982 [==============================] - 1s 91us/step - loss: 0.0899 - acc: 0.9589 - val_loss: 1.2348 - val_acc: 0.7950\n",
      "Epoch 18/20\n",
      "7982/7982 [==============================] - 1s 92us/step - loss: 0.1165 - acc: 0.9495 - val_loss: 1.1255 - val_acc: 0.8190\n",
      "Epoch 19/20\n",
      "7982/7982 [==============================] - 1s 92us/step - loss: 0.0758 - acc: 0.9587 - val_loss: 1.2399 - val_acc: 0.8020\n",
      "Epoch 20/20\n",
      "7982/7982 [==============================] - 1s 91us/step - loss: 0.0781 - acc: 0.9580 - val_loss: 1.2182 - val_acc: 0.8130\n"
     ]
    },
    {
     "data": {
      "text/plain": [
       "0.8129999957084656"
      ]
     },
     "execution_count": 55,
     "metadata": {},
     "output_type": "execute_result"
    }
   ],
   "source": [
    "model_exe(256, 3)"
   ]
  },
  {
   "cell_type": "code",
   "execution_count": null,
   "metadata": {},
   "outputs": [
    {
     "name": "stdout",
     "output_type": "stream",
     "text": [
      "Train on 7982 samples, validate on 1000 samples\n",
      "Epoch 1/20\n",
      "7982/7982 [==============================] - 1s 144us/step - loss: 2.2126 - acc: 0.4684 - val_loss: 1.3813 - val_acc: 0.6830\n",
      "Epoch 2/20\n",
      "7982/7982 [==============================] - 1s 94us/step - loss: 1.1903 - acc: 0.7191 - val_loss: 1.2256 - val_acc: 0.7190\n",
      "Epoch 3/20\n",
      "7982/7982 [==============================] - 1s 93us/step - loss: 0.8900 - acc: 0.7864 - val_loss: 1.0417 - val_acc: 0.7630\n",
      "Epoch 4/20\n",
      "7982/7982 [==============================] - 1s 94us/step - loss: 0.6032 - acc: 0.8515 - val_loss: 1.1902 - val_acc: 0.7430\n",
      "Epoch 5/20\n",
      "7982/7982 [==============================] - 1s 93us/step - loss: 0.4396 - acc: 0.8951 - val_loss: 0.9518 - val_acc: 0.8010\n",
      "Epoch 6/20\n",
      "7982/7982 [==============================] - 1s 93us/step - loss: 0.4386 - acc: 0.8909 - val_loss: 0.9121 - val_acc: 0.8190\n",
      "Epoch 7/20\n",
      "7982/7982 [==============================] - 1s 94us/step - loss: 0.2051 - acc: 0.9470 - val_loss: 1.0259 - val_acc: 0.8080\n",
      "Epoch 8/20\n",
      "7982/7982 [==============================] - 1s 94us/step - loss: 0.1829 - acc: 0.9501 - val_loss: 1.2582 - val_acc: 0.7700\n",
      "Epoch 9/20\n",
      "7982/7982 [==============================] - 1s 94us/step - loss: 0.1737 - acc: 0.9488 - val_loss: 1.0483 - val_acc: 0.7900\n",
      "Epoch 10/20\n",
      "7982/7982 [==============================] - 1s 93us/step - loss: 0.1557 - acc: 0.9528 - val_loss: 1.1832 - val_acc: 0.7730\n",
      "Epoch 11/20\n",
      "7982/7982 [==============================] - 1s 93us/step - loss: 0.1744 - acc: 0.9436 - val_loss: 1.0410 - val_acc: 0.8100\n",
      "Epoch 12/20\n",
      "7982/7982 [==============================] - 1s 93us/step - loss: 0.1085 - acc: 0.9573 - val_loss: 1.1659 - val_acc: 0.7990\n",
      "Epoch 13/20\n",
      "5632/7982 [====================>.........] - ETA: 0s - loss: 0.1072 - acc: 0.9572"
     ]
    }
   ],
   "source": [
    "model_exe(256, 3)"
   ]
  },
  {
   "cell_type": "code",
   "execution_count": null,
   "metadata": {},
   "outputs": [],
   "source": []
  }
 ],
 "metadata": {
  "kernelspec": {
   "display_name": "Python 3",
   "language": "python",
   "name": "python3"
  },
  "language_info": {
   "codemirror_mode": {
    "name": "ipython",
    "version": 3
   },
   "file_extension": ".py",
   "mimetype": "text/x-python",
   "name": "python",
   "nbconvert_exporter": "python",
   "pygments_lexer": "ipython3",
   "version": "3.5.2"
  }
 },
 "nbformat": 4,
 "nbformat_minor": 2
}
