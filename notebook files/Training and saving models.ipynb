{
 "cells": [
  {
   "cell_type": "markdown",
   "metadata": {},
   "source": [
    "# Imports"
   ]
  },
  {
   "cell_type": "code",
   "execution_count": 1,
   "metadata": {},
   "outputs": [
    {
     "name": "stderr",
     "output_type": "stream",
     "text": [
      "Using TensorFlow backend.\n"
     ]
    }
   ],
   "source": [
    "from keras import layers\n",
    "from keras import models\n",
    "import pickle\n"
   ]
  },
  {
   "cell_type": "markdown",
   "metadata": {},
   "source": [
    "# Functions"
   ]
  },
  {
   "cell_type": "code",
   "execution_count": 2,
   "metadata": {},
   "outputs": [],
   "source": [
    "def build_model(units,layerz,metric,shape):\n",
    "    model = models.Sequential()\n",
    "    model.add(layers.Dense(units, activation = 'relu', \n",
    "                           input_shape = (shape,)))\n",
    "    for layer in range(layerz):\n",
    "        model.add(layers.Dropout(0.4))\n",
    "        model.add(layers.Dense(units, activation = 'relu'))\n",
    "    model.add(layers.Dense(1)) #linear layer\n",
    "    model.compile(optimizer = 'rmsprop', loss = 'mse', metrics =[metric] )\n",
    "    return model\n",
    "\n"
   ]
  },
  {
   "cell_type": "code",
   "execution_count": 5,
   "metadata": {},
   "outputs": [],
   "source": [
    "# get data\n",
    "pickle_in = open(\"predictive dataset\",\"rb\")\n",
    "dataset = pickle.load(pickle_in)\n",
    "pickle_in.close()\n",
    "\n"
   ]
  },
  {
   "cell_type": "code",
   "execution_count": 8,
   "metadata": {},
   "outputs": [
    {
     "data": {
      "text/plain": [
       "dict_keys(['pairwise_male', 'female', 'male', 'pairwise_female'])"
      ]
     },
     "execution_count": 8,
     "metadata": {},
     "output_type": "execute_result"
    }
   ],
   "source": [
    "dataset.keys()"
   ]
  },
  {
   "cell_type": "markdown",
   "metadata": {},
   "source": [
    "# Male"
   ]
  },
  {
   "cell_type": "code",
   "execution_count": 11,
   "metadata": {},
   "outputs": [],
   "source": [
    "male = dataset[\"male\"]"
   ]
  },
  {
   "cell_type": "markdown",
   "metadata": {},
   "source": [
    "### actor"
   ]
  },
  {
   "cell_type": "code",
   "execution_count": 15,
   "metadata": {},
   "outputs": [],
   "source": [
    "actor = male[0]\n",
    "actor_dataset = actor[0]\n",
    "actor_features = actor[1]"
   ]
  },
  {
   "cell_type": "code",
   "execution_count": 18,
   "metadata": {},
   "outputs": [],
   "source": [
    "X = actor_dataset[0]\n",
    "y = actor_dataset[1]\n",
    "shape = X.shape[1]\n",
    "#Hyperparameters                                 # in Analysis 4 was optimum\n",
    "HP = dict(units = 32, layerz = 2, metric ='mae', num_epochs = 4)\n",
    "# create model\n",
    "model = build_model(HP['units'],HP['layerz'],HP['metric'],shape)\n",
    "# train model\n",
    "model.fit(X, y, epochs = HP['num_epochs'], batch_size = 50, verbose = 0 )\n",
    "# Saving model\n",
    "model.save('MaleActorModel.h5') "
   ]
  },
  {
   "cell_type": "markdown",
   "metadata": {},
   "source": [
    "### partner"
   ]
  },
  {
   "cell_type": "code",
   "execution_count": 20,
   "metadata": {},
   "outputs": [],
   "source": [
    "partner = male[0]\n",
    "partner_dataset = partner[0]\n",
    "partner_features = partner[1]"
   ]
  },
  {
   "cell_type": "code",
   "execution_count": 22,
   "metadata": {},
   "outputs": [],
   "source": [
    "X = partner_dataset[0]\n",
    "y = partner_dataset[1]\n",
    "shape = X.shape[1]\n",
    "#Hyperparameters                                 # in Analysis 4 was optimum\n",
    "HP = dict(units = 32, layerz = 2, metric ='mae', num_epochs = 4)\n",
    "# create model\n",
    "model = build_model(HP['units'],HP['layerz'],HP['metric'],shape)\n",
    "# train model\n",
    "model.fit(X, y, epochs = HP['num_epochs'], batch_size = 50, verbose = 0 )\n",
    "# Saving model\n",
    "model.save('MalePartnerModel.h5') "
   ]
  },
  {
   "cell_type": "markdown",
   "metadata": {},
   "source": [
    "# Female"
   ]
  },
  {
   "cell_type": "code",
   "execution_count": 23,
   "metadata": {},
   "outputs": [],
   "source": [
    "female = dataset[\"female\"]"
   ]
  },
  {
   "cell_type": "code",
   "execution_count": 26,
   "metadata": {},
   "outputs": [],
   "source": [
    "actor = female[0]\n",
    "actor_dataset = actor[0]\n",
    "actor_features = actor[1]\n",
    "\n",
    "X = actor_dataset[0]\n",
    "y = actor_dataset[1]\n",
    "shape = X.shape[1]\n",
    "#Hyperparameters                                 # in Analysis 4 was optimum\n",
    "HP = dict(units = 32, layerz = 2, metric ='mae', num_epochs = 4)\n",
    "# create model\n",
    "model = build_model(HP['units'],HP['layerz'],HP['metric'],shape)\n",
    "# train model\n",
    "model.fit(X, y, epochs = HP['num_epochs'], batch_size = 50, verbose = 0 )\n",
    "# Saving model\n",
    "model.save('FemaleActorModel.h5') \n",
    "\n",
    "partner = female[0]\n",
    "partner_dataset = partner[0]\n",
    "partner_features = partner[1]\n",
    "\n",
    "\n",
    "X = partner_dataset[0]\n",
    "y = partner_dataset[1]\n",
    "shape = X.shape[1]\n",
    "#Hyperparameters                                 # in Analysis 4 was optimum\n",
    "HP = dict(units = 32, layerz = 2, metric ='mae', num_epochs = 4)\n",
    "# create model\n",
    "model = build_model(HP['units'],HP['layerz'],HP['metric'],shape)\n",
    "# train model\n",
    "model.fit(X, y, epochs = HP['num_epochs'], batch_size = 50, verbose = 0 )\n",
    "# Saving model\n",
    "model.save('FemalePartnerModel.h5')"
   ]
  },
  {
   "cell_type": "markdown",
   "metadata": {},
   "source": [
    "# Pairwise"
   ]
  },
  {
   "cell_type": "markdown",
   "metadata": {},
   "source": [
    "### male relationship"
   ]
  },
  {
   "cell_type": "code",
   "execution_count": 34,
   "metadata": {},
   "outputs": [],
   "source": [
    "male = dataset[\"pairwise_male\"]\n",
    "rel_dataset = male[0]\n",
    "rel_features = male[1]"
   ]
  },
  {
   "cell_type": "code",
   "execution_count": 36,
   "metadata": {},
   "outputs": [],
   "source": [
    "X = rel_dataset[0]\n",
    "y = rel_dataset[1]\n",
    "shape = X.shape[1]\n",
    "#Hyperparameters                                 # in Analysis 4 was optimum\n",
    "HP = dict(units = 32, layerz = 2, metric ='mae', num_epochs = 4)\n",
    "# create model\n",
    "model = build_model(HP['units'],HP['layerz'],HP['metric'],shape)\n",
    "# train model\n",
    "model.fit(X, y, epochs = HP['num_epochs'], batch_size = 50, verbose = 0 )\n",
    "# Saving model\n",
    "model.save('MaleRelationModel.h5') \n",
    "\n"
   ]
  },
  {
   "cell_type": "code",
   "execution_count": 38,
   "metadata": {},
   "outputs": [],
   "source": [
    "female = dataset[\"pairwise_female\"]\n",
    "rel_dataset = female[0]\n",
    "rel_features = female[1]\n",
    "\n",
    "X = rel_dataset[0]\n",
    "y = rel_dataset[1]\n",
    "shape = X.shape[1]\n",
    "#Hyperparameters                                 # in Analysis 4 was optimum\n",
    "HP = dict(units = 32, layerz = 2, metric ='mae', num_epochs = 4)\n",
    "# create model\n",
    "model = build_model(HP['units'],HP['layerz'],HP['metric'],shape)\n",
    "# train model\n",
    "model.fit(X, y, epochs = HP['num_epochs'], batch_size = 50, verbose = 0 )\n",
    "# Saving model\n",
    "model.save('FemaleRelationModel.h5') "
   ]
  },
  {
   "cell_type": "code",
   "execution_count": null,
   "metadata": {},
   "outputs": [],
   "source": []
  }
 ],
 "metadata": {
  "kernelspec": {
   "display_name": "Python 3",
   "language": "python",
   "name": "python3"
  },
  "language_info": {
   "codemirror_mode": {
    "name": "ipython",
    "version": 3
   },
   "file_extension": ".py",
   "mimetype": "text/x-python",
   "name": "python",
   "nbconvert_exporter": "python",
   "pygments_lexer": "ipython3",
   "version": "3.5.2"
  }
 },
 "nbformat": 4,
 "nbformat_minor": 2
}
