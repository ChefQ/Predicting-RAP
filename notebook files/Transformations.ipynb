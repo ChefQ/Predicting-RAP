{
 "cells": [
  {
   "cell_type": "code",
   "execution_count": 1,
   "metadata": {},
   "outputs": [
    {
     "name": "stderr",
     "output_type": "stream",
     "text": [
      "Using TensorFlow backend.\n"
     ]
    }
   ],
   "source": [
    "import pandas as pd\n",
    "import numpy as np\n",
    "import pickle\n",
    "from Helper_functions import *"
   ]
  },
  {
   "cell_type": "markdown",
   "metadata": {},
   "source": [
    "# Helper functions"
   ]
  },
  {
   "cell_type": "code",
   "execution_count": 2,
   "metadata": {},
   "outputs": [],
   "source": [
    "def get_diggings(raw : pd.core.frame.DataFrame): # -> pd.core.frame.DataFrame\n",
    "    practice = raw[[\"maleID\",\"femaleID\",'Liked', 'SexAtt', \"LikYes\", 'FLiked', 'FSexAtt', \"FLikYes\"]].copy()\n",
    "    male_measure = ['Liked', 'SexAtt', \"LikYes\"]\n",
    "    female_measure = ['FLiked', 'FSexAtt', \"FLikYes\"]\n",
    "    practice.loc[:,\"Digging\"] = practice[male_measure].values.astype(\"float\").sum(axis = 1)/len(male_measure)\n",
    "    practice.loc[:,\"FDigging\"] = practice[female_measure].values.astype(\"float\").sum(axis = 1)/len(female_measure)\n",
    "    \n",
    "    return practice\n",
    "\n",
    "def get_transformations(practice : pd.core.frame.DataFrame, G : str): # -> pd.core.frame.DataFrame\n",
    "    \n",
    "    Gender = dict(\n",
    "            M = \"Digging \",\n",
    "            F = \"FDigging\"\n",
    "    )\n",
    "    sort_by = dict(\n",
    "         M = [\"maleID\",\"femaleID\"],\n",
    "         F = [\"femaleID\", \"maleID\"]\n",
    "        )\n",
    "    \n",
    "    firstID = sort_by[G][0]\n",
    "    secondID = sort_by[G][1]\n",
    "    scores = Gender[G]\n",
    "    # Digging grand mean  \n",
    "    DGM = practice.loc[:,scores].mean() \n",
    "\n",
    "    \n",
    "    #actor\n",
    "    actor_data = a_p_score(practice, DGM, firstID,scores) # change practice could be better\n",
    "    actor_df = pd.DataFrame(actor_data, columns = [\"actor\"])\n",
    "\n",
    "    ids = practice[[\"maleID\",\"femaleID\"]].copy()\n",
    "    ids.sort_values(by = firstID, inplace = True)\n",
    "    ids.reset_index(inplace = True)\n",
    "\n",
    "    actor_df[[\"maleID\",\"femaleID\"]] = ids.loc[:,[\"maleID\",\"femaleID\"]]\n",
    "\n",
    "    # partner\n",
    "    partner_data = a_p_score(practice, DGM, secondID, scores)\n",
    "    partner_df = pd.DataFrame(partner_data, columns = [\"partner\"])\n",
    "\n",
    "    # coordinate parner values with appropriate IDs\n",
    "    ids = practice[[\"maleID\",\"femaleID\"]].copy()\n",
    "    ids.sort_values(by = secondID, inplace = True)\n",
    "    ids.reset_index(inplace = True)\n",
    "    partner_df[[\"maleID\",\"femaleID\"]] = ids.loc[:,[\"maleID\",\"femaleID\"]]\n",
    "\n",
    "    # join the male actor and parner df\n",
    "    df = pd.merge(actor_df, partner_df, on = [\"maleID\", \"femaleID\"])\n",
    "\n",
    "    # merge with practice\n",
    "    practice = pd.merge(practice,df, on = [\"maleID\",\"femaleID\"])\n",
    "\n",
    "    digging = practice[scores].values.astype(\"float\")\n",
    "    actor = practice[\"actor\"].values.astype(\"float\")\n",
    "    partner = practice[\"partner\"].values.astype(\"float\")\n",
    "\n",
    "    relationship = digging - (DGM + actor + partner)\n",
    "    \n",
    "    # relationship\n",
    "    practice[\"relationship\"] = relationship\n",
    "    \n",
    "    return practice[[\"maleID\",\"femaleID\",\"actor\",\"partner\",\"relationship\"]]"
   ]
  },
  {
   "cell_type": "code",
   "execution_count": 3,
   "metadata": {},
   "outputs": [],
   "source": [
    "PATH = \"/Users/oluwaseuncardoso/492_19summer/MachineLearning/RAW DATA/raw.csv\""
   ]
  },
  {
   "cell_type": "code",
   "execution_count": 4,
   "metadata": {},
   "outputs": [
    {
     "name": "stderr",
     "output_type": "stream",
     "text": [
      "/Users/oluwaseuncardoso/anaconda2/envs/AI/lib/python3.7/site-packages/IPython/core/interactiveshell.py:3049: DtypeWarning: Columns (113,122,127,154,211,213,479,480,494,495,497,498,499,529,530,561,562,619,620,665,707,716,718,748,1073,1075,1213,1214,1216,1512) have mixed types. Specify dtype option on import or set low_memory=False.\n",
      "  interactivity=interactivity, compiler=compiler, result=result)\n"
     ]
    }
   ],
   "source": [
    "missing_values = [\" \", \"\"]\n",
    "raw = pd.read_csv(PATH, na_values = missing_values)"
   ]
  },
  {
   "cell_type": "code",
   "execution_count": 5,
   "metadata": {},
   "outputs": [
    {
     "data": {
      "text/plain": [
       "Index(['maleID', 'femaleID', 'code', 'revcode', 'rotation', 'class',\n",
       "       'dateorder', 'Knew', 'Inter1', 'Liked',\n",
       "       ...\n",
       "       'DiggingActorGM', 'DiggingPartner', 'DiggingPartnerGM', 'DiggingRel',\n",
       "       'FDiggingGrandMean', 'FDiggingActor', 'FDiggingActorGM',\n",
       "       'FDiggingPartner', 'FDiggingPartnerGM', 'FDiggingRel'],\n",
       "      dtype='object', length=1523)"
      ]
     },
     "execution_count": 5,
     "metadata": {},
     "output_type": "execute_result"
    }
   ],
   "source": [
    "raw.columns"
   ]
  },
  {
   "cell_type": "code",
   "execution_count": 6,
   "metadata": {},
   "outputs": [
    {
     "name": "stderr",
     "output_type": "stream",
     "text": [
      "/Users/oluwaseuncardoso/anaconda2/envs/AI/lib/python3.7/site-packages/pandas/core/indexing.py:362: SettingWithCopyWarning: \n",
      "A value is trying to be set on a copy of a slice from a DataFrame.\n",
      "Try using .loc[row_indexer,col_indexer] = value instead\n",
      "\n",
      "See the caveats in the documentation: http://pandas.pydata.org/pandas-docs/stable/indexing.html#indexing-view-versus-copy\n",
      "  self.obj[key] = _infer_fill_value(value)\n",
      "/Users/oluwaseuncardoso/anaconda2/envs/AI/lib/python3.7/site-packages/pandas/core/indexing.py:543: SettingWithCopyWarning: \n",
      "A value is trying to be set on a copy of a slice from a DataFrame.\n",
      "Try using .loc[row_indexer,col_indexer] = value instead\n",
      "\n",
      "See the caveats in the documentation: http://pandas.pydata.org/pandas-docs/stable/indexing.html#indexing-view-versus-copy\n",
      "  self.obj[item] = s\n"
     ]
    }
   ],
   "source": [
    "practice = raw[[\"maleID\",\"femaleID\",'Liked', 'SexAtt', \"LikYes\", 'FLiked', 'FSexAtt', \"FLikYes\"]]\n",
    "male_measure = ['Liked', 'SexAtt', \"LikYes\"]\n",
    "female_measure = ['FLiked', 'FSexAtt', \"FLikYes\"]\n",
    "practice.loc[:,\"Digging\"] = practice[male_measure].values.astype(\"float\").sum(axis = 1)/len(male_measure)\n",
    "practice.loc[:,\"FDigging\"] = practice[female_measure].values.astype(\"float\").sum(axis = 1)/len(female_measure)"
   ]
  },
  {
   "cell_type": "code",
   "execution_count": 9,
   "metadata": {},
   "outputs": [],
   "source": [
    "# Digging grand mean\n",
    "DGM = practice.loc[:,\"Digging\"].mean() \n",
    "\n",
    "#actor\n",
    "actor_data = a_p_score(practice, DGM, \"maleID\",\"Digging\") # change practice could be better\n",
    "male_actor_df = pd.DataFrame(actor_data, columns = [\"M_actor\"])\n",
    "\n",
    "ids = practice[[\"maleID\",\"femaleID\"]].copy()\n",
    "ids.sort_values(by = \"maleID\", inplace = True)\n",
    "ids.reset_index(inplace = True)\n",
    "\n",
    "male_actor_df[[\"maleID\",\"femaleID\"]] = ids.loc[:,[\"maleID\",\"femaleID\"]]\n",
    "\n",
    "# partner\n",
    "partner_data = a_p_score(practice, DGM, \"femaleID\", \"Digging\")\n",
    "female_partner_df = pd.DataFrame(partner_data, columns = [\"F_partner\"])\n",
    "\n",
    "# coordinate parner values with appropriate IDs\n",
    "ids = practice[[\"maleID\",\"femaleID\"]].copy()\n",
    "ids.sort_values(by = \"femaleID\", inplace = True)\n",
    "ids.reset_index(inplace = True)\n",
    "female_partner_df[[\"maleID\",\"femaleID\"]] = ids.loc[:,[\"maleID\",\"femaleID\"]]\n",
    "\n",
    "# join the male actor and parner df\n",
    "male_df = pd.merge(male_actor_df, female_partner_df, on = [\"maleID\", \"femaleID\"])\n",
    "\n",
    "# merge with practice\n",
    "practice = pd.merge(practice,male_df, on = [\"maleID\",\"femaleID\"])\n",
    "\n",
    "digging = practice[\"Digging\"].values.astype(\"float\")\n",
    "actor = practice[\"M_actor\"].values.astype(\"float\")\n",
    "partner = practice[\"F_partner\"].values.astype(\"float\")\n",
    "\n",
    "maler_relationship = digging - (DGM + actor + partner)\n",
    "# relationship\n",
    "practice[\"M_relationship\"] = maler_relationship"
   ]
  },
  {
   "cell_type": "code",
   "execution_count": 10,
   "metadata": {
    "scrolled": true
   },
   "outputs": [
    {
     "data": {
      "text/html": [
       "<div>\n",
       "<style scoped>\n",
       "    .dataframe tbody tr th:only-of-type {\n",
       "        vertical-align: middle;\n",
       "    }\n",
       "\n",
       "    .dataframe tbody tr th {\n",
       "        vertical-align: top;\n",
       "    }\n",
       "\n",
       "    .dataframe thead th {\n",
       "        text-align: right;\n",
       "    }\n",
       "</style>\n",
       "<table border=\"1\" class=\"dataframe\">\n",
       "  <thead>\n",
       "    <tr style=\"text-align: right;\">\n",
       "      <th></th>\n",
       "      <th>maleID</th>\n",
       "      <th>femaleID</th>\n",
       "      <th>FDiggingActorGM</th>\n",
       "      <th>FDiggingPartnerGM</th>\n",
       "      <th>FDiggingRel</th>\n",
       "    </tr>\n",
       "  </thead>\n",
       "  <tbody>\n",
       "    <tr>\n",
       "      <th>999</th>\n",
       "      <td>381</td>\n",
       "      <td>7</td>\n",
       "      <td>-0.59</td>\n",
       "      <td>-1.79</td>\n",
       "      <td>1.15</td>\n",
       "    </tr>\n",
       "    <tr>\n",
       "      <th>600</th>\n",
       "      <td>277</td>\n",
       "      <td>7</td>\n",
       "      <td>-0.59</td>\n",
       "      <td>-0.73</td>\n",
       "      <td>0.76</td>\n",
       "    </tr>\n",
       "    <tr>\n",
       "      <th>387</th>\n",
       "      <td>210</td>\n",
       "      <td>7</td>\n",
       "      <td>-0.59</td>\n",
       "      <td>-1.82</td>\n",
       "      <td>0.18</td>\n",
       "    </tr>\n",
       "    <tr>\n",
       "      <th>423</th>\n",
       "      <td>215</td>\n",
       "      <td>7</td>\n",
       "      <td>-0.59</td>\n",
       "      <td>0.49</td>\n",
       "      <td>2.54</td>\n",
       "    </tr>\n",
       "    <tr>\n",
       "      <th>399</th>\n",
       "      <td>212</td>\n",
       "      <td>7</td>\n",
       "      <td>-0.59</td>\n",
       "      <td>-0.04</td>\n",
       "      <td>0.73</td>\n",
       "    </tr>\n",
       "  </tbody>\n",
       "</table>\n",
       "</div>"
      ],
      "text/plain": [
       "     maleID  femaleID  FDiggingActorGM  FDiggingPartnerGM  FDiggingRel\n",
       "999     381         7            -0.59              -1.79         1.15\n",
       "600     277         7            -0.59              -0.73         0.76\n",
       "387     210         7            -0.59              -1.82         0.18\n",
       "423     215         7            -0.59               0.49         2.54\n",
       "399     212         7            -0.59              -0.04         0.73"
      ]
     },
     "execution_count": 10,
     "metadata": {},
     "output_type": "execute_result"
    }
   ],
   "source": [
    "raw[[\"maleID\",\"femaleID\",\"FDiggingActorGM\",\"FDiggingPartnerGM\",\"FDiggingRel\"]].sort_values(by=\"femaleID\").head()"
   ]
  },
  {
   "cell_type": "code",
   "execution_count": 11,
   "metadata": {},
   "outputs": [
    {
     "data": {
      "text/html": [
       "<div>\n",
       "<style scoped>\n",
       "    .dataframe tbody tr th:only-of-type {\n",
       "        vertical-align: middle;\n",
       "    }\n",
       "\n",
       "    .dataframe tbody tr th {\n",
       "        vertical-align: top;\n",
       "    }\n",
       "\n",
       "    .dataframe thead th {\n",
       "        text-align: right;\n",
       "    }\n",
       "</style>\n",
       "<table border=\"1\" class=\"dataframe\">\n",
       "  <thead>\n",
       "    <tr style=\"text-align: right;\">\n",
       "      <th></th>\n",
       "      <th>maleID</th>\n",
       "      <th>femaleID</th>\n",
       "      <th>actor</th>\n",
       "      <th>partner</th>\n",
       "      <th>relationship</th>\n",
       "    </tr>\n",
       "  </thead>\n",
       "  <tbody>\n",
       "    <tr>\n",
       "      <th>999</th>\n",
       "      <td>381</td>\n",
       "      <td>7</td>\n",
       "      <td>-0.596217</td>\n",
       "      <td>-1.790661</td>\n",
       "      <td>1.151772</td>\n",
       "    </tr>\n",
       "    <tr>\n",
       "      <th>600</th>\n",
       "      <td>277</td>\n",
       "      <td>7</td>\n",
       "      <td>-0.596217</td>\n",
       "      <td>-0.735105</td>\n",
       "      <td>0.762883</td>\n",
       "    </tr>\n",
       "    <tr>\n",
       "      <th>387</th>\n",
       "      <td>210</td>\n",
       "      <td>7</td>\n",
       "      <td>-0.596217</td>\n",
       "      <td>-1.818439</td>\n",
       "      <td>0.179550</td>\n",
       "    </tr>\n",
       "    <tr>\n",
       "      <th>423</th>\n",
       "      <td>215</td>\n",
       "      <td>7</td>\n",
       "      <td>-0.596217</td>\n",
       "      <td>0.487117</td>\n",
       "      <td>2.540661</td>\n",
       "    </tr>\n",
       "    <tr>\n",
       "      <th>399</th>\n",
       "      <td>212</td>\n",
       "      <td>7</td>\n",
       "      <td>-0.596217</td>\n",
       "      <td>-0.040661</td>\n",
       "      <td>0.735105</td>\n",
       "    </tr>\n",
       "  </tbody>\n",
       "</table>\n",
       "</div>"
      ],
      "text/plain": [
       "     maleID  femaleID     actor   partner  relationship\n",
       "999     381         7 -0.596217 -1.790661      1.151772\n",
       "600     277         7 -0.596217 -0.735105      0.762883\n",
       "387     210         7 -0.596217 -1.818439      0.179550\n",
       "423     215         7 -0.596217  0.487117      2.540661\n",
       "399     212         7 -0.596217 -0.040661      0.735105"
      ]
     },
     "execution_count": 11,
     "metadata": {},
     "output_type": "execute_result"
    }
   ],
   "source": [
    "prac1 = get_diggings(raw)\n",
    "prac2 = get_transformations(prac1, \"F\")\n",
    "prac2.sort_values(by=\"femaleID\").head()"
   ]
  },
  {
   "cell_type": "code",
   "execution_count": 13,
   "metadata": {},
   "outputs": [
    {
     "data": {
      "text/html": [
       "<div>\n",
       "<style scoped>\n",
       "    .dataframe tbody tr th:only-of-type {\n",
       "        vertical-align: middle;\n",
       "    }\n",
       "\n",
       "    .dataframe tbody tr th {\n",
       "        vertical-align: top;\n",
       "    }\n",
       "\n",
       "    .dataframe thead th {\n",
       "        text-align: right;\n",
       "    }\n",
       "</style>\n",
       "<table border=\"1\" class=\"dataframe\">\n",
       "  <thead>\n",
       "    <tr style=\"text-align: right;\">\n",
       "      <th></th>\n",
       "      <th>maleID</th>\n",
       "      <th>femaleID</th>\n",
       "      <th>actor</th>\n",
       "      <th>partner</th>\n",
       "      <th>relationship</th>\n",
       "    </tr>\n",
       "  </thead>\n",
       "  <tbody>\n",
       "    <tr>\n",
       "      <th>0</th>\n",
       "      <td>15</td>\n",
       "      <td>13</td>\n",
       "      <td>-0.941049</td>\n",
       "      <td>-1.635494</td>\n",
       "      <td>0.607716</td>\n",
       "    </tr>\n",
       "    <tr>\n",
       "      <th>11</th>\n",
       "      <td>15</td>\n",
       "      <td>388</td>\n",
       "      <td>-0.941049</td>\n",
       "      <td>0.808951</td>\n",
       "      <td>-1.503395</td>\n",
       "    </tr>\n",
       "    <tr>\n",
       "      <th>10</th>\n",
       "      <td>15</td>\n",
       "      <td>127</td>\n",
       "      <td>-0.941049</td>\n",
       "      <td>0.975617</td>\n",
       "      <td>-0.670062</td>\n",
       "    </tr>\n",
       "    <tr>\n",
       "      <th>9</th>\n",
       "      <td>15</td>\n",
       "      <td>125</td>\n",
       "      <td>-0.941049</td>\n",
       "      <td>-1.829938</td>\n",
       "      <td>0.802160</td>\n",
       "    </tr>\n",
       "    <tr>\n",
       "      <th>7</th>\n",
       "      <td>15</td>\n",
       "      <td>90</td>\n",
       "      <td>-0.941049</td>\n",
       "      <td>1.614506</td>\n",
       "      <td>-1.308951</td>\n",
       "    </tr>\n",
       "  </tbody>\n",
       "</table>\n",
       "</div>"
      ],
      "text/plain": [
       "    maleID  femaleID     actor   partner  relationship\n",
       "0       15        13 -0.941049 -1.635494      0.607716\n",
       "11      15       388 -0.941049  0.808951     -1.503395\n",
       "10      15       127 -0.941049  0.975617     -0.670062\n",
       "9       15       125 -0.941049 -1.829938      0.802160\n",
       "7       15        90 -0.941049  1.614506     -1.308951"
      ]
     },
     "execution_count": 13,
     "metadata": {},
     "output_type": "execute_result"
    }
   ],
   "source": [
    "prac1 = get_diggings(raw)\n",
    "prac2 = get_transformations(prac1, \"M\")\n",
    "prac2.sort_values(by=\"maleID\").head()"
   ]
  },
  {
   "cell_type": "code",
   "execution_count": 14,
   "metadata": {},
   "outputs": [
    {
     "data": {
      "text/html": [
       "<div>\n",
       "<style scoped>\n",
       "    .dataframe tbody tr th:only-of-type {\n",
       "        vertical-align: middle;\n",
       "    }\n",
       "\n",
       "    .dataframe tbody tr th {\n",
       "        vertical-align: top;\n",
       "    }\n",
       "\n",
       "    .dataframe thead th {\n",
       "        text-align: right;\n",
       "    }\n",
       "</style>\n",
       "<table border=\"1\" class=\"dataframe\">\n",
       "  <thead>\n",
       "    <tr style=\"text-align: right;\">\n",
       "      <th></th>\n",
       "      <th>maleID</th>\n",
       "      <th>femaleID</th>\n",
       "      <th>DiggingActorGM</th>\n",
       "      <th>DiggingPartnerGM</th>\n",
       "      <th>DiggingRel</th>\n",
       "    </tr>\n",
       "  </thead>\n",
       "  <tbody>\n",
       "    <tr>\n",
       "      <th>0</th>\n",
       "      <td>15</td>\n",
       "      <td>13</td>\n",
       "      <td>-0.94</td>\n",
       "      <td>-1.64</td>\n",
       "      <td>0.61</td>\n",
       "    </tr>\n",
       "    <tr>\n",
       "      <th>11</th>\n",
       "      <td>15</td>\n",
       "      <td>388</td>\n",
       "      <td>-0.94</td>\n",
       "      <td>0.81</td>\n",
       "      <td>-1.50</td>\n",
       "    </tr>\n",
       "    <tr>\n",
       "      <th>10</th>\n",
       "      <td>15</td>\n",
       "      <td>127</td>\n",
       "      <td>-0.94</td>\n",
       "      <td>0.98</td>\n",
       "      <td>-0.67</td>\n",
       "    </tr>\n",
       "    <tr>\n",
       "      <th>9</th>\n",
       "      <td>15</td>\n",
       "      <td>125</td>\n",
       "      <td>-0.94</td>\n",
       "      <td>-1.83</td>\n",
       "      <td>0.80</td>\n",
       "    </tr>\n",
       "    <tr>\n",
       "      <th>7</th>\n",
       "      <td>15</td>\n",
       "      <td>90</td>\n",
       "      <td>-0.94</td>\n",
       "      <td>1.61</td>\n",
       "      <td>-1.31</td>\n",
       "    </tr>\n",
       "  </tbody>\n",
       "</table>\n",
       "</div>"
      ],
      "text/plain": [
       "    maleID  femaleID  DiggingActorGM  DiggingPartnerGM  DiggingRel\n",
       "0       15        13           -0.94             -1.64        0.61\n",
       "11      15       388           -0.94              0.81       -1.50\n",
       "10      15       127           -0.94              0.98       -0.67\n",
       "9       15       125           -0.94             -1.83        0.80\n",
       "7       15        90           -0.94              1.61       -1.31"
      ]
     },
     "execution_count": 14,
     "metadata": {},
     "output_type": "execute_result"
    }
   ],
   "source": [
    "raw[[\"maleID\",\"femaleID\",\"DiggingActorGM\",\"DiggingPartnerGM\",\"DiggingRel\"]].sort_values(by=\"maleID\").head()"
   ]
  },
  {
   "cell_type": "code",
   "execution_count": null,
   "metadata": {},
   "outputs": [],
   "source": []
  }
 ],
 "metadata": {
  "kernelspec": {
   "display_name": "Python 3",
   "language": "python",
   "name": "python3"
  },
  "language_info": {
   "codemirror_mode": {
    "name": "ipython",
    "version": 3
   },
   "file_extension": ".py",
   "mimetype": "text/x-python",
   "name": "python",
   "nbconvert_exporter": "python",
   "pygments_lexer": "ipython3",
   "version": "3.5.2"
  }
 },
 "nbformat": 4,
 "nbformat_minor": 2
}
