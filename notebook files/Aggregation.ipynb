{
 "cells": [
  {
   "cell_type": "code",
   "execution_count": 15,
   "metadata": {},
   "outputs": [],
   "source": [
    "import pandas as pd\n",
    "import numpy as np\n",
    "import pickle\n"
   ]
  },
  {
   "cell_type": "markdown",
   "metadata": {},
   "source": [
    "# Functions"
   ]
  },
  {
   "cell_type": "code",
   "execution_count": 145,
   "metadata": {},
   "outputs": [],
   "source": [
    "def moving_average(average,new,number):\n",
    "    return (average*number + new)/(number +1)\n",
    "\n",
    "\"\"\"\n",
    "values: numpy array of aggregatable values\n",
    "\"\"\"\n",
    "def aggregate(values):\n",
    "    \n",
    "    aggregates = np.zeros(values.shape)\n",
    "    aggregate = np.zeros(values.shape[1])\n",
    "\n",
    "    for date_order  in range(values.shape[0]):\n",
    "        aggregate = moving_average(aggregate,values[date_order],date_order)\n",
    "        aggregates[date_order] = aggregate\n",
    "    return aggregates\n",
    "\n",
    "# make a new function\n",
    "def final_aggregate(values):\n",
    "    aggregate = np.zeros(values.shape[1])\n",
    "    for date_order  in range(values.shape[0]):\n",
    "        aggregate = moving_average(aggregate,values[date_order],date_order)\n",
    "    return aggregate\n",
    "\n",
    "def aggregated_data(ID: str, agg_index: int, features: list, raw : pd.core.frame.DataFrame  ) -> np.ndarray:\n",
    "    \n",
    "    raw = raw[features]\n",
    "\n",
    "    IDs = set(raw[ID].tolist()) # individual ids\n",
    "\n",
    "    num_cols = len(raw.columns)\n",
    "    data = np.empty((0, num_cols))\n",
    "\n",
    "    for person in IDs:\n",
    "        values = raw[raw[ID] == person].sort_values(by=['dateorder']).values.astype(\"float\")\n",
    "        agg_values = values[:,agg_index:]\n",
    "        unagg_values = values[:,:agg_index]\n",
    "        person_values = np.concatenate((unagg_values,aggregate(agg_values)), axis = 1)\n",
    "        data = np.concatenate((data,person_values), axis = 0 )\n",
    "        \n",
    "    return data   \n",
    "\n",
    "def aggregate_data2(ID: str, agg_index: int, features: list, raw : pd.core.frame.DataFrame  ) -> np.ndarray:\n",
    "    id_index = dict ( maleid = 0, femaleid = 1)\n",
    "    \n",
    "    raw = raw[features]\n",
    "\n",
    "    IDs = set(raw[ID].tolist()) # individual ids\n",
    "\n",
    "    length = len(raw.columns[agg_index:]) + 1 #+ id\n",
    "    \n",
    "    aggre_data = np.empty((0,length))\n",
    "    \n",
    "    index = id_index[ID] \n",
    "    \n",
    "    for person in IDs:\n",
    "        values = raw[raw[ID] == person].sort_values(by=['dateorder']).values.astype(\"float\")\n",
    "        agg_values = values[:,agg_index:]\n",
    "        aggre = np.zeros((1,length))\n",
    "        aggre[0,0] = values[0, index]\n",
    "        aggre[0,1:] = final_aggregate(agg_values)\n",
    "        aggre_data = np.concatenate((aggre_data, aggre), axis = 0 )\n",
    "        \n",
    "    return aggre_data\n",
    "\n",
    "def preliminaries(PATH):\n",
    "    missing_values = [\" \", \"\"]\n",
    "    # replaced missing values with zeros\n",
    "    # consider maybe removing those rows if time permits you\n",
    "\n",
    "    raw = pd.read_csv(PATH, na_values = missing_values)\n",
    "    #NOTE: this needs revision This is only particular to Sample B\n",
    "    raw.loc[:,['Liked', 'SexAtt', \"LikYes\", 'FSexAtt']] = raw.loc[:,['Liked', 'SexAtt', \"LikYes\", 'FSexAtt']].fillna(1)\n",
    "    raw.loc[raw[\"maleID\"] == 219,\"Liked\":\"Common\"] # this guy did not enter any values for dependent measures... so i a gave him a 1\n",
    "    raw = raw.fillna(0)\n",
    "    return raw\n"
   ]
  },
  {
   "cell_type": "markdown",
   "metadata": {},
   "source": [
    "# Preliminaries"
   ]
  },
  {
   "cell_type": "code",
   "execution_count": 140,
   "metadata": {},
   "outputs": [],
   "source": [
    "\n",
    "\n",
    "dependent_measures = ['liked', 'sexatt', \"likyes\", 'fliked', 'fsexatt', \"flikyes\"]\n",
    "measures = dependent_measures.copy()\n",
    "measures.extend([\"saidyes\",\"fsaidyes\",\"match\"])\n",
    "\n",
    "# this will be changed\n",
    "features = dict(\n",
    "    non_aggregated = ['maleid', 'femaleid', 'dateorder'],  # non aggregated features\n",
    "    \n",
    "     both = ['inter1', 'deplet1', 'pliked', 'psexatt',\n",
    "            'finter1', 'fdeplet1', 'fpliked', 'fpsexatt', ], # Both\n",
    "    \n",
    "    individual = ['common', 'simper','connect'], # One sided individual view   \n",
    "    \n",
    "    \n",
    "\n",
    "    # one sided partners view # note i removed some features to as to fit sample A\n",
    "    partner = ['pi1', 'pi2', 'pi3', 'pi4', 'pi5', 'pi6', 'pi7', 'pi8',  \n",
    "             'pi9', 'pi10', 'pi11', 'ip12', 'if1', 'if2', 'if3',\n",
    "             'if4', 'if5', 'if6', 'if7', 'if8', 'if9', 'if10', 'if11', 'if12']\n",
    ")\n",
    "\n",
    "\n",
    "#NOTE encode some categorical data and put in nonaggregated\n",
    "#check this https://pbpython.com/categorical-encoding.html\n",
    "\n",
    "\n",
    "PATH = \"/Users/oluwaseuncardoso/492_19summer/MachineLearning/RAW DATA/raw.csv\"\n",
    "PATH2 = \"/Users/oluwaseuncardoso/492_19summer/MachineLearning/RAW DATA/raw2.csv\"\n",
    "missing_values = [\" \", \"\"]\n",
    "raw1 = preliminaries(PATH)\n",
    "raw1.columns = [x.lower() for x in raw1.columns]\n",
    "raw1.rename(columns={\"if34\":\"if12\",\"ip34\": \"ip12\", \"fif34\":\"fif12\",\"fip34\": \"fip12\" }, inplace = True)\n",
    "\n",
    "raw2 = pd.read_csv(PATH2, na_values = missing_values)\n",
    "raw2 = raw2.fillna(0)\n",
    "\n",
    "raw2.columns = [x.lower() for x in raw2.columns]\n",
    "\n",
    "pmale_features = []    #perceived male features\n",
    "for feature in features['partner']:\n",
    "    pmale_features.append(\"f\"+feature)  \n",
    "\n",
    "pfemale_features = [] #perceived female features\n",
    "for feature in features['individual']:\n",
    "    pfemale_features.append(\"f\"+feature)  \n",
    "    \n",
    "male_features = features['non_aggregated'] + features['both'] + features['individual'] + pmale_features\n",
    "\n",
    "female_features = features['non_aggregated'] + features['both']  + pfemale_features + features['partner']\n",
    "\n",
    "\n",
    " \n",
    "total_features = features['non_aggregated']+ features['both'] + features['individual'] \\\n",
    "                + pfemale_features + pmale_features  + features['partner'] \\\n",
    "                + measures\n",
    "\n",
    "raw1 = raw1[total_features]\n",
    "raw2 = raw2[total_features]\n",
    "frames = [raw1,raw2]\n",
    "raw = pd.concat(frames)"
   ]
  },
  {
   "cell_type": "markdown",
   "metadata": {},
   "source": [
    "# Dependent Measures"
   ]
  },
  {
   "cell_type": "code",
   "execution_count": 137,
   "metadata": {},
   "outputs": [],
   "source": [
    "measures = features['non_aggregated'] + measures\n",
    "dependent_df = raw[measures]"
   ]
  },
  {
   "cell_type": "markdown",
   "metadata": {},
   "source": [
    "# Male aggregate"
   ]
  },
  {
   "cell_type": "code",
   "execution_count": 142,
   "metadata": {},
   "outputs": [],
   "source": [
    "agg_index = len(features['non_aggregated'])\n",
    "# Type 1\n",
    "male_data = aggregated_data('maleid', agg_index, male_features, raw )\n",
    "male_df1 = pd.DataFrame(male_data, columns = male_features)"
   ]
  },
  {
   "cell_type": "code",
   "execution_count": 150,
   "metadata": {},
   "outputs": [],
   "source": [
    "# Type 2\n",
    "male_data2 = aggregate_data2('maleid', agg_index, male_features, raw )\n",
    "feature_cols = male_features[agg_index:].copy()\n",
    "feature_cols.insert(0,\"maleid\")\n",
    "male_df2 = pd.DataFrame(male_data2, columns = feature_cols)"
   ]
  },
  {
   "cell_type": "markdown",
   "metadata": {},
   "source": [
    "# Female aggregate"
   ]
  },
  {
   "cell_type": "code",
   "execution_count": 151,
   "metadata": {},
   "outputs": [],
   "source": [
    "#type 1\n",
    "female_data = aggregated_data('femaleid', agg_index, female_features, raw )\n",
    "female_df = pd.DataFrame(female_data, columns = female_features)"
   ]
  },
  {
   "cell_type": "code",
   "execution_count": 54,
   "metadata": {},
   "outputs": [],
   "source": [
    "# type 2\n",
    "female_data2 = aggregate_data2('femaleid', agg_index, female_features, raw )\n",
    "feature_cols = female_features[agg_index:].copy()\n",
    "feature_cols.insert(0,\"femaleid\")\n",
    "female_df2 = pd.DataFrame(female_data2, columns = feature_cols)"
   ]
  },
  {
   "cell_type": "markdown",
   "metadata": {},
   "source": [
    "# Join aggreagates"
   ]
  },
  {
   "cell_type": "code",
   "execution_count": 63,
   "metadata": {},
   "outputs": [],
   "source": [
    "pair_df1 = pd.merge(male_df1, female_df, on = [\"maleid\",\"femaleid\", \"dateorder\"])\n",
    "pair_df1 = pd.merge(pair_df1, dependent_df, on = [\"maleid\",\"femaleid\", \"dateorder\"])"
   ]
  },
  {
   "cell_type": "code",
   "execution_count": 64,
   "metadata": {},
   "outputs": [],
   "source": [
    "intersect_df = raw[[\"maleid\",\"femaleid\", \"dateorder\"]]\n",
    "pair_df2 = pd.merge(intersect_df, female_df2, on = [\"femaleid\"])\n",
    "pair_df2 = pd.merge(pair_df2, male_df2, on = [\"maleid\"])\n",
    "pair_df2 = pd.merge(pair_df2, dependent_df, on = [\"maleid\",\"femaleid\", \"dateorder\"])"
   ]
  },
  {
   "cell_type": "markdown",
   "metadata": {},
   "source": [
    "# Save data"
   ]
  },
  {
   "cell_type": "code",
   "execution_count": 65,
   "metadata": {},
   "outputs": [],
   "source": [
    "pair_df1.to_csv(\"./pair1Dataframe.csv\", index = False)"
   ]
  },
  {
   "cell_type": "code",
   "execution_count": 66,
   "metadata": {},
   "outputs": [],
   "source": [
    "pair_df2.to_csv(\"./pair2Dataframe.csv\", index = False)"
   ]
  },
  {
   "cell_type": "code",
   "execution_count": null,
   "metadata": {},
   "outputs": [],
   "source": []
  }
 ],
 "metadata": {
  "kernelspec": {
   "display_name": "Python 3",
   "language": "python",
   "name": "python3"
  },
  "language_info": {
   "codemirror_mode": {
    "name": "ipython",
    "version": 3
   },
   "file_extension": ".py",
   "mimetype": "text/x-python",
   "name": "python",
   "nbconvert_exporter": "python",
   "pygments_lexer": "ipython3",
   "version": "3.7.3"
  }
 },
 "nbformat": 4,
 "nbformat_minor": 2
}
