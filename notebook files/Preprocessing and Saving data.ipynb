{
 "cells": [
  {
   "cell_type": "code",
   "execution_count": 9,
   "metadata": {
    "scrolled": true
   },
   "outputs": [],
   "source": [
    "import pandas as pd\n",
    "import numpy as np\n",
    "import pickle"
   ]
  },
  {
   "cell_type": "code",
   "execution_count": 10,
   "metadata": {},
   "outputs": [],
   "source": [
    "def preprocess(train_df,test_df):\n",
    "    #number of missing data\n",
    "    print(\"number of missing data\", train_df.isna().sum().sum(),test_df.isna().sum().sum())\n",
    "\n",
    "    #Filling missing Data with 0\n",
    "\n",
    "    train = train_df.fillna(0)\n",
    "    test = test_df.fillna(0)\n",
    "    train.isna().sum().sum(),test.isna().sum().sum()\n",
    "\n",
    "    #Let's see what intersects\n",
    "\n",
    "    # columns may have same names but different cases\n",
    "    train_cols = [x.lower() for x in train.columns.tolist()] \n",
    "    test_cols = [x.lower() for x in test.columns.tolist()]\n",
    "    print(len(train_cols))\n",
    "    print(len(test_cols))\n",
    "    A = set(train_cols)\n",
    "    B = set(test_cols)\n",
    "    C = A & B\n",
    "\n",
    "    print(\"length of interseting columns, C  =\", len(C))\n",
    "\n",
    "    print(\"Length of Non intersecting columns in A, A-C: \"+str(len(A-C))+\"\")\n",
    "    print(\"Length of Non intersecting columns in B, B-C: \"+str(len(B-C))+\"\")\n",
    "    D = A - C\n",
    "    E = B - C\n",
    "    Not_C = D | E\n",
    "    ## remove features in D and E from train_cols and test_cols\n",
    "    for x in Not_C:\n",
    "        if x in train_cols:\n",
    "            train_cols.remove(x)\n",
    "        if x in test_cols:\n",
    "            test_cols.remove(x)\n",
    "    print(len(train_cols),len(test_cols))\n",
    "\n",
    "    train_X = train_cols[0:len(train_cols)-1]# not including digging score\n",
    "    y = train_cols[len(train_cols)-1]\n",
    "    test_X = test_cols[0:len(test_cols)-1]\n",
    "    train_X.sort()\n",
    "    test_X.sort()\n",
    "    train_X.append(y)\n",
    "    test_X.append(y) \n",
    "\n",
    "    print(train_X == test_X)\n",
    "\n",
    "    train_cols = train.columns.tolist() \n",
    "    test_cols = test.columns.tolist()\n",
    "    #making the column names lowercase so we can index the features we want\n",
    "\n",
    "    train_cols = [x.lower() for x in train_cols]\n",
    "    test_cols = [x.lower() for x in test_cols]\n",
    "\n",
    "    #reassigning column names\n",
    "    train.columns = train_cols\n",
    "    test.columns = test_cols\n",
    "\n",
    "    print(len(train_cols), len(train_X ),  len(test_X ))\n",
    "\n",
    "    # choose intersecting columns\n",
    "    train = train[train_X]\n",
    "    test = test[test_X]\n",
    "    train_data = train.values.astype('float')\n",
    "    test_data = test.values.astype('float')\n",
    "    cols = train_data.shape[1]\n",
    "\n",
    "\n",
    "    # Joining sample A and sample B together\n",
    "    full_data = np.concatenate((train_data,test_data))\n",
    "    full_data.shape,train_data.shape,test_data.shape\n",
    "\n",
    "    # partition independent and dependent variable\n",
    "    y = full_data[:,cols-1]\n",
    "    X = full_data[:,0:cols-1]\n",
    "    return X,y, train_X"
   ]
  },
  {
   "cell_type": "markdown",
   "metadata": {},
   "source": [
    "# Prior Actor"
   ]
  },
  {
   "cell_type": "code",
   "execution_count": 11,
   "metadata": {
    "scrolled": true
   },
   "outputs": [
    {
     "name": "stdout",
     "output_type": "stream",
     "text": [
      "number of missing data 5 112\n",
      "88\n",
      "87\n",
      "length of interseting columns, C  = 85\n",
      "Length of Non intersecting columns in A, A-C: 3\n",
      "Length of Non intersecting columns in B, B-C: 2\n",
      "85 85\n",
      "True\n",
      "88 85 85\n"
     ]
    }
   ],
   "source": [
    "missing_values = [\"n/a\", \"na\", \"--\", \" \"]\n",
    "train_df = pd.read_csv(\"/home/cardosoo/492_19summer/MachineLearning/Data/Training actor.csv\", na_values = missing_values )\n",
    "test_df = pd.read_csv(\"/home/cardosoo/492_19summer/MachineLearning/Data/Testing actor.csv\" , na_values = missing_values )\n",
    "X,y, train_X = preprocess(train_df,test_df)"
   ]
  },
  {
   "cell_type": "markdown",
   "metadata": {},
   "source": [
    "Loading preselected Features"
   ]
  },
  {
   "cell_type": "code",
   "execution_count": 12,
   "metadata": {},
   "outputs": [],
   "source": [
    "pickle_in = open(\"Best 10 pre features in Actor\",\"rb\")\n",
    "CR,MI, DI,DA = pickle.load(pickle_in)"
   ]
  },
  {
   "cell_type": "markdown",
   "metadata": {},
   "source": [
    "MI was the best in the analysis, so I'll be using MI"
   ]
  },
  {
   "cell_type": "code",
   "execution_count": 13,
   "metadata": {},
   "outputs": [],
   "source": [
    "data_set = dict(feature_names=train_X, Data_set = X[:,MI], Data_target = y )\n",
    "pickle_out = open(\"preActor Dataset\",\"wb\")\n",
    "pickle.dump(data_set, pickle_out)\n",
    "pickle_out.close()\n"
   ]
  },
  {
   "cell_type": "markdown",
   "metadata": {},
   "source": [
    "# Post Partner"
   ]
  },
  {
   "cell_type": "code",
   "execution_count": 14,
   "metadata": {
    "scrolled": true
   },
   "outputs": [
    {
     "name": "stdout",
     "output_type": "stream",
     "text": [
      "number of missing data 24 24\n",
      "42\n",
      "42\n",
      "length of interseting columns, C  = 42\n",
      "Length of Non intersecting columns in A, A-C: 0\n",
      "Length of Non intersecting columns in B, B-C: 0\n",
      "42 42\n",
      "True\n",
      "42 42 42\n"
     ]
    }
   ],
   "source": [
    "train_df = pd.read_csv(\"/home/cardosoo/492_19summer/MachineLearning/Data/Level 2 Post-Interaction predicting Partner, Sample B.csv\", na_values = missing_values )\n",
    "test_df = pd.read_csv(\"/home/cardosoo/492_19summer/MachineLearning/Data/Level 2 Post-Interaction predicting Partner, Sample B.csv\" , na_values = missing_values )\n",
    "X,y, train_X = preprocess(train_df,test_df)\n",
    "pickle_in = open(\"Best 10 post features in Partner\",\"rb\")\n",
    "CR,MI, DI,DA = pickle.load(pickle_in)\n",
    "\n",
    "#DA was the best in the analysis\n",
    "\n",
    "data_set = dict(feature_names=train_X, Data_set = X[:,DA], Data_target = y )\n",
    "pickle_out = open(\"postActor Dataset\",\"wb\")\n",
    "pickle.dump(data_set, pickle_out)\n",
    "pickle_out.close()\n",
    "\n"
   ]
  },
  {
   "cell_type": "markdown",
   "metadata": {},
   "source": [
    "# Post Female relationship"
   ]
  },
  {
   "cell_type": "code",
   "execution_count": 15,
   "metadata": {},
   "outputs": [
    {
     "name": "stdout",
     "output_type": "stream",
     "text": [
      "number of missing data 518 69\n",
      "41\n",
      "37\n",
      "length of interseting columns, C  = 37\n",
      "Length of Non intersecting columns in A, A-C: 4\n",
      "Length of Non intersecting columns in B, B-C: 0\n",
      "37 37\n",
      "True\n",
      "41 37 37\n"
     ]
    }
   ],
   "source": [
    "train_df = pd.read_csv(\"/home/cardosoo/492_19summer/MachineLearning/Data/Level 1 Post-Interaction predicting Female Dyadic Desire, Sample B.csv\", na_values = missing_values )\n",
    "test_df = pd.read_csv(\"/home/cardosoo/492_19summer/MachineLearning/Data/Level 1 Post-Interaction predicting Female Dyadic Desire, Sample A.csv\" , na_values = missing_values )\n",
    "X,y, train_X = preprocess(train_df,test_df)\n",
    "\n",
    "data_set = dict(feature_names=train_X, Data_set = X, Data_target = y )\n",
    "pickle_out = open(\"post female relationship Dataset\",\"wb\")\n",
    "pickle.dump(data_set, pickle_out)\n",
    "pickle_out.close()\n",
    "\n",
    "\n"
   ]
  },
  {
   "cell_type": "markdown",
   "metadata": {},
   "source": [
    "# Post Male relationship"
   ]
  },
  {
   "cell_type": "code",
   "execution_count": 16,
   "metadata": {},
   "outputs": [
    {
     "name": "stdout",
     "output_type": "stream",
     "text": [
      "number of missing data 530 69\n",
      "41\n",
      "37\n",
      "length of interseting columns, C  = 37\n",
      "Length of Non intersecting columns in A, A-C: 4\n",
      "Length of Non intersecting columns in B, B-C: 0\n",
      "37 37\n",
      "True\n",
      "41 37 37\n"
     ]
    }
   ],
   "source": [
    "train_df = pd.read_csv(\"/home/cardosoo/492_19summer/MachineLearning/Data/Level 1 Post-Interaction predicting Male Dyadic Desire, Sample B.csv\", na_values = missing_values )\n",
    "test_df = pd.read_csv(\"/home/cardosoo/492_19summer/MachineLearning/Data/Level 1 Post-Interaction predicting Male Dyadic Desire, Sample A.csv\" , na_values = missing_values )\n",
    "X,y, train_X = preprocess(train_df,test_df)\n",
    "\n",
    "data_set = dict(feature_names=train_X, Data_set = X, Data_target = y )\n",
    "pickle_out = open(\"post male relationship Dataset\",\"wb\")\n",
    "pickle.dump(data_set, pickle_out)\n",
    "pickle_out.close()\n",
    "\n",
    "\n",
    "\n"
   ]
  }
 ],
 "metadata": {
  "kernelspec": {
   "display_name": "Python 3",
   "language": "python",
   "name": "python3"
  },
  "language_info": {
   "codemirror_mode": {
    "name": "ipython",
    "version": 3
   },
   "file_extension": ".py",
   "mimetype": "text/x-python",
   "name": "python",
   "nbconvert_exporter": "python",
   "pygments_lexer": "ipython3",
   "version": "3.5.2"
  }
 },
 "nbformat": 4,
 "nbformat_minor": 2
}
