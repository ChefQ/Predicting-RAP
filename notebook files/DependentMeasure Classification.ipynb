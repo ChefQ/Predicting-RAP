{
 "cells": [
  {
   "cell_type": "code",
   "execution_count": 1,
   "metadata": {
    "scrolled": true
   },
   "outputs": [
    {
     "name": "stderr",
     "output_type": "stream",
     "text": [
      "Using TensorFlow backend.\n"
     ]
    }
   ],
   "source": [
    "from Helper_functions import *\n",
    "import pandas as pd\n",
    "import numpy as np\n",
    "import matplotlib.pyplot as plt\n",
    "from keras import regularizers"
   ]
  },
  {
   "cell_type": "markdown",
   "metadata": {},
   "source": [
    "# Helper"
   ]
  },
  {
   "cell_type": "code",
   "execution_count": 2,
   "metadata": {},
   "outputs": [],
   "source": [
    "def train(measure,units,layerz,shape,num,split):\n",
    "    train_label = measure[0:split]\n",
    "    test_label = measure[split:]\n",
    "    model = build_model_R(units,layerz,\"mae\",shape)\n",
    "\n",
    "    history = model.fit(\n",
    "        train_data,train_label, epochs = num, batch_size = 100 ,validation_data = (test_data,test_label), verbose = 0 )\n",
    "\n",
    "    print(\"minimum Training MAE: \", np.min(history.history['mean_absolute_error']))\n",
    "    print(\"at: \", np.argmin(history.history['mean_absolute_error']))\n",
    "    print(\"minimum Validation MAE: \", np.min(history.history['val_mean_absolute_error']))\n",
    "    print(\"at: \", np.argmin(history.history['val_mean_absolute_error']))\n",
    "    return model,history\n",
    "\n",
    "def train_C(measure,units,layerz,shape,num,split):\n",
    "    train_label = measure[0:split]\n",
    "    test_label = measure[split:]\n",
    "    model = build_model_C(units,layerz,\"accuracy\",shape)\n",
    "    \n",
    "    history = model.fit(\n",
    "        train_data,train_label, epochs = num, batch_size = 100 ,validation_data = (test_data,test_label), verbose = 0 )\n",
    "\n",
    "    print(\"minimum Training accuracy: \", np.max(history.history['acc']))\n",
    "    print(\"at: \", np.argmax(history.history['acc']))\n",
    "    print(\"minimum Validation accuracy: \", np.max(history.history['val_acc']))\n",
    "    print(\"at: \", np.argmax(history.history['val_acc']))\n",
    "    return model,history\n",
    "\n",
    "\n",
    "def build_model_R(units,layerz,metric,shape,lozz= 'logcosh'):\n",
    "    model = models.Sequential()\n",
    "    model.add(layers.Dense(units, activation = 'relu', \n",
    "                           input_shape = (shape,)))\n",
    "    for layer in range(layerz):\n",
    "        model.add(layers.Dense(units, activation = 'relu'))\n",
    "    model.add(layers.Dense(1)) #linear layer\n",
    "    model.compile(optimizer = 'rmsprop', loss = lozz, metrics =[metric] )\n",
    "    return model\n",
    "\n",
    "\n",
    "    model.compile(optimizer = 'rmsprop', loss = lozz, metrics =[metric] )\n",
    "def build_model_C(units,layerz,metric,shape,lozz = 'binary_crossentropy'):\n",
    "    model = models.Sequential()\n",
    "    model.add(layers.Dense(units, activation = 'relu', \n",
    "                           kernel_regularizer = regularizers.l2(0.001),\n",
    "                           input_shape = (shape,)))\n",
    "    for layer in range(layerz):\n",
    "        model.add(layers.Dropout(0.4))\n",
    "        model.add(layers.Dense(units, activation = 'relu'))\n",
    "    model.add(layers.Dense(1, activation = \"sigmoid\")) \n",
    "    model.compile(optimizer = 'Adam', loss = lozz, metrics =[metric] )\n",
    "    return model\n",
    "\n",
    "def smooth_points(histories, factor=0.9):\n",
    "    \n",
    "    smoothed_points1 = []\n",
    "    smoothed_points2 = []\n",
    "    points = zip(histories['val_mean_absolute_error'],histories['mean_absolute_error'])\n",
    "    \n",
    "    for point1,point2 in  points:\n",
    "        if smoothed_points1:\n",
    "            previous = smoothed_points1[-1]\n",
    "            smoothed_points1.append(previous * factor + point1*(1 - factor))\n",
    "            previous = smoothed_points2[-1]\n",
    "            smoothed_points2.append(previous * factor + point2*(1 - factor))\n",
    "        else:\n",
    "            smoothed_points1.append(point1)\n",
    "            smoothed_points2.append(point2)\n",
    "            \n",
    "    smooth_histories = dict(\n",
    "                            val_mean_absolute_error = smoothed_points1,\n",
    "                            mean_absolute_error = smoothed_points2\n",
    "                            )\n",
    "    return smooth_histories\n",
    "\n",
    "\n",
    "def plot(histories):\n",
    "    epoch = range(1,len(histories['val_mean_absolute_error'])+1)[10:]\n",
    "    f, axes = plt.subplots(1, 2, figsize=(12,12))\n",
    "    axes = axes.reshape((2,))\n",
    "  \n",
    "    axes[0].plot(epoch,histories['val_mean_absolute_error'][10:], label='Training')\n",
    "    axes[1].plot(epoch,histories['mean_absolute_error'][10:], 'r', label='Validation')\n",
    "    axes[1].legend()\n",
    "    axes[0].set_xlabel(\"Epoch\")\n",
    "    axes[1].set_xlabel(\"Epoch\")\n",
    "    axes[0].set_ylabel(\"MAE\")\n",
    "\n",
    "    axes[1].set_ylabel(\"Loss\")\n",
    "    \n",
    "def plot_C(histories):\n",
    "    epoch = range(1,len(histories['val_acc'])+1)[10:]\n",
    "    f, axes = plt.subplots(1, 2, figsize=(12,12))\n",
    "    axes = axes.reshape((2,))\n",
    "  \n",
    "    axes[0].plot(epoch,histories['val_acc'][10:], label='Training')\n",
    "    axes[1].plot(epoch,histories['acc'][10:], 'r', label='Validation')\n",
    "    axes[1].legend()\n",
    "    axes[0].set_xlabel(\"Epoch\")\n",
    "    axes[1].set_xlabel(\"Epoch\")\n",
    "    axes[0].set_ylabel(\"accuracy\")\n",
    "\n",
    "    axes[1].set_ylabel(\"Loss\")\n",
    "    \n",
    "def preprocess1(path1,path2,ratio):    \n",
    "    pair1_df = pd.read_csv(path1)\n",
    "    pair2_df = pd.read_csv(path2)\n",
    "    data1 = pair1_df.loc[:,\"dateorder\":\"liked\"].values.astype(\"float\")\n",
    "    data2 = pair2_df.loc[:,\"dateorder\":\"liked\"].values.astype(\"float\")\n",
    "    data = np.concatenate((data1,data2),axis = 0)\n",
    "    labels1 = pair1_df.loc[:,\"liked\":].values.astype(\"float\")\n",
    "    labels2 = pair2_df.loc[:,\"liked\":].values.astype(\"float\")\n",
    "    labels = np.concatenate((labels1,labels2),axis = 0)\n",
    "    \n",
    "    \n",
    "    # randomize data and label set\n",
    "    sample_size = data.shape[0]\n",
    "    arr = np.arange(sample_size)\n",
    "    data = data[arr].reshape(data.shape)\n",
    "    labels = labels[arr].reshape(labels.shape)\n",
    "    \n",
    "    dependent_measures = dict(\n",
    "    liked = labels[:,0], sexatt = labels[:,1], likyes = labels[:,2],\n",
    "    fliked = labels[:,3], fsexatt = labels[:,4] , flikyes = labels[:,5],\n",
    "    saidyes = labels[:,6], fsaidyes = labels[:,6], match = labels[:,7]\n",
    "    )\n",
    "\n",
    "\n",
    "\n",
    "    # partition train and test \n",
    "                                    # NOTE:may need to shuffle them\n",
    "    split = int(ratio * data.shape[0])\n",
    "    train_data = data[0:split]\n",
    "    test_data = data[split:]\n",
    "\n",
    "    # normalize\n",
    "    mean = train_data.mean(axis = 0)\n",
    "    std = train_data.std(axis = 0)\n",
    "\n",
    "    train_data -= mean\n",
    "    train_data /= std\n",
    "\n",
    "    test_data -= mean\n",
    "    test_data /= std\n",
    "    \n",
    "    return train_data,test_data, dependent_measures,split\n",
    "    "
   ]
  },
  {
   "cell_type": "markdown",
   "metadata": {},
   "source": [
    "# Preprocessing"
   ]
  },
  {
   "cell_type": "code",
   "execution_count": 4,
   "metadata": {},
   "outputs": [],
   "source": [
    "path1,path2, ratio = \"./pair1Dataframe.csv\",\"./pair2Dataframe.csv\" , 0.8\n",
    "\n",
    "train_data, test_data, dependent_measures,split  = preprocess1(path1,path2,ratio)\n"
   ]
  },
  {
   "cell_type": "code",
   "execution_count": 3,
   "metadata": {},
   "outputs": [
    {
     "ename": "NameError",
     "evalue": "name 'preprocess' is not defined",
     "output_type": "error",
     "traceback": [
      "\u001b[0;31m---------------------------------------------------------------------------\u001b[0m",
      "\u001b[0;31mNameError\u001b[0m                                 Traceback (most recent call last)",
      "\u001b[0;32m<ipython-input-3-4d008d26775d>\u001b[0m in \u001b[0;36m<module>\u001b[0;34m\u001b[0m\n\u001b[1;32m      1\u001b[0m \u001b[0mpath\u001b[0m\u001b[0;34m,\u001b[0m \u001b[0mratio\u001b[0m \u001b[0;34m=\u001b[0m \u001b[0;34m\"./pair2Dataframe.csv\"\u001b[0m\u001b[0;34m,\u001b[0m \u001b[0;36m0.8\u001b[0m\u001b[0;34m\u001b[0m\u001b[0m\n\u001b[0;32m----> 2\u001b[0;31m \u001b[0mtrain_data2\u001b[0m\u001b[0;34m,\u001b[0m \u001b[0mtest_data2\u001b[0m\u001b[0;34m,\u001b[0m \u001b[0mdependent_measures\u001b[0m\u001b[0;34m,\u001b[0m\u001b[0msplit\u001b[0m  \u001b[0;34m=\u001b[0m \u001b[0mpreprocess\u001b[0m\u001b[0;34m(\u001b[0m\u001b[0mpath\u001b[0m\u001b[0;34m,\u001b[0m\u001b[0mratio\u001b[0m\u001b[0;34m)\u001b[0m\u001b[0;34m\u001b[0m\u001b[0m\n\u001b[0m",
      "\u001b[0;31mNameError\u001b[0m: name 'preprocess' is not defined"
     ]
    }
   ],
   "source": [
    "path, ratio = \"./pair2Dataframe.csv\", 0.8\n",
    "train_data2, test_data2, dependent_measures,split  = preprocess(path,ratio)"
   ]
  },
  {
   "cell_type": "markdown",
   "metadata": {},
   "source": [
    "# Benchmark (random)"
   ]
  },
  {
   "cell_type": "code",
   "execution_count": 5,
   "metadata": {},
   "outputs": [],
   "source": [
    "#dependent_measures[\"FLikYes\"]\n",
    "random_predict = np.random.randint(1,10, size= (train_data.shape[0]) )"
   ]
  },
  {
   "cell_type": "code",
   "execution_count": 6,
   "metadata": {
    "scrolled": true
   },
   "outputs": [
    {
     "name": "stdout",
     "output_type": "stream",
     "text": [
      "liked 0.16707317073170733\n",
      "sexatt 0.1274390243902439\n",
      "likyes 0.0975609756097561\n",
      "fliked 0.14634146341463414\n",
      "fsexatt 0.1048780487804878\n",
      "flikyes 0.0676829268292683\n"
     ]
    }
   ],
   "source": [
    "measures = ['liked', 'sexatt', \"likyes\", 'fliked', 'fsexatt', \"flikyes\"]\n",
    "for measure in measures:\n",
    "    score = ( dependent_measures[measure][0:split].astype('int64') == np.mean(dependent_measures[measure][0:split]).astype('int64')).sum()/train_data.shape[0]\n",
    "    print(measure,score)"
   ]
  },
  {
   "cell_type": "markdown",
   "metadata": {},
   "source": [
    "# Type 2"
   ]
  },
  {
   "cell_type": "markdown",
   "metadata": {},
   "source": [
    "## Training (using Classification)"
   ]
  },
  {
   "cell_type": "code",
   "execution_count": 3,
   "metadata": {},
   "outputs": [
    {
     "ename": "NameError",
     "evalue": "name 'preprocess' is not defined",
     "output_type": "error",
     "traceback": [
      "\u001b[0;31m---------------------------------------------------------------------------\u001b[0m",
      "\u001b[0;31mNameError\u001b[0m                                 Traceback (most recent call last)",
      "\u001b[0;32m<ipython-input-3-83b1d97dac77>\u001b[0m in \u001b[0;36m<module>\u001b[0;34m\u001b[0m\n\u001b[1;32m      1\u001b[0m \u001b[0mpath\u001b[0m\u001b[0;34m,\u001b[0m \u001b[0mratio\u001b[0m \u001b[0;34m=\u001b[0m \u001b[0;34m\"./pair2Dataframe.csv\"\u001b[0m\u001b[0;34m,\u001b[0m \u001b[0;36m0.8\u001b[0m\u001b[0;34m\u001b[0m\u001b[0m\n\u001b[0;32m----> 2\u001b[0;31m \u001b[0mtrain_data\u001b[0m\u001b[0;34m,\u001b[0m \u001b[0mtest_data\u001b[0m\u001b[0;34m,\u001b[0m \u001b[0mdependent_measures\u001b[0m\u001b[0;34m,\u001b[0m\u001b[0msplit\u001b[0m  \u001b[0;34m=\u001b[0m \u001b[0mpreprocess\u001b[0m\u001b[0;34m(\u001b[0m\u001b[0mpath\u001b[0m\u001b[0;34m,\u001b[0m\u001b[0mratio\u001b[0m\u001b[0;34m)\u001b[0m\u001b[0;34m\u001b[0m\u001b[0m\n\u001b[0m",
      "\u001b[0;31mNameError\u001b[0m: name 'preprocess' is not defined"
     ]
    }
   ],
   "source": [
    "path, ratio = \"./pair2Dataframe.csv\", 0.8\n",
    "train_data, test_data, dependent_measures,split  = preprocess(path,ratio)"
   ]
  },
  {
   "cell_type": "code",
   "execution_count": null,
   "metadata": {},
   "outputs": [
    {
     "name": "stdout",
     "output_type": "stream",
     "text": [
      "WARNING:tensorflow:From /home/cardosoo/venv/lib/python3.5/site-packages/tensorflow/python/framework/op_def_library.py:263: colocate_with (from tensorflow.python.framework.ops) is deprecated and will be removed in a future version.\n",
      "Instructions for updating:\n",
      "Colocations handled automatically by placer.\n",
      "WARNING:tensorflow:From /home/cardosoo/venv/lib/python3.5/site-packages/keras/backend/tensorflow_backend.py:3445: calling dropout (from tensorflow.python.ops.nn_ops) with keep_prob is deprecated and will be removed in a future version.\n",
      "Instructions for updating:\n",
      "Please use `rate` instead of `keep_prob`. Rate should be set to `rate = 1 - keep_prob`.\n",
      "WARNING:tensorflow:From /home/cardosoo/venv/lib/python3.5/site-packages/tensorflow/python/ops/math_ops.py:3066: to_int32 (from tensorflow.python.ops.math_ops) is deprecated and will be removed in a future version.\n",
      "Instructions for updating:\n",
      "Use tf.cast instead.\n"
     ]
    }
   ],
   "source": [
    "units,layerz,shape, num = 64,5, train_data.shape[1] , 50000\n",
    "match_model_C,history = train_C(dependent_measures[\"match\"],units,layerz,shape,num,split)\n",
    "plot_C(history.history)"
   ]
  },
  {
   "cell_type": "code",
   "execution_count": null,
   "metadata": {},
   "outputs": [],
   "source": [
    "units,layerz,shape, num = 64,3, train_data.shape[1] , 50000\n",
    "saidyes_model_C,history = train_C(dependent_measures[\"saidyes\"],units,layerz,shape,num,split)\n",
    "plot_C(history.history)"
   ]
  },
  {
   "cell_type": "code",
   "execution_count": null,
   "metadata": {},
   "outputs": [],
   "source": [
    "units,layerz,shape, num = 64,3, train_data.shape[1] , 10000\n",
    "fsaidyes_model_C,history = train_C(dependent_measures[\"fsaidyes\"],units,layerz,shape,num,split)\n",
    "plot_C(history.history)"
   ]
  },
  {
   "cell_type": "code",
   "execution_count": null,
   "metadata": {},
   "outputs": [],
   "source": []
  }
 ],
 "metadata": {
  "kernelspec": {
   "display_name": "Python 3",
   "language": "python",
   "name": "python3"
  },
  "language_info": {
   "codemirror_mode": {
    "name": "ipython",
    "version": 3
   },
   "file_extension": ".py",
   "mimetype": "text/x-python",
   "name": "python",
   "nbconvert_exporter": "python",
   "pygments_lexer": "ipython3",
   "version": "3.5.2"
  }
 },
 "nbformat": 4,
 "nbformat_minor": 2
}
