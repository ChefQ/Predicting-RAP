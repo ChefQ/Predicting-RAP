{
 "cells": [
  {
   "cell_type": "code",
   "execution_count": 1,
   "metadata": {
    "scrolled": true
   },
   "outputs": [],
   "source": [
    "import pandas as pd\n",
    "import numpy as np\n",
    "import pickle\n",
    "missing_values = [\"n/a\", \"na\", \"--\", \" \"]\n",
    "train_df = pd.read_csv(\"/home/cardosoo/492_19summer/MachineLearning/Data/Training couples, male DV.csv\", na_values = missing_values )\n",
    "test_df = pd.read_csv(\"/home/cardosoo/492_19summer/MachineLearning/Data/Testing couples, male DV.csv\" , na_values = missing_values )\n",
    "\n"
   ]
  },
  {
   "cell_type": "code",
   "execution_count": 2,
   "metadata": {},
   "outputs": [
    {
     "data": {
      "text/plain": [
       "(173, 173)"
      ]
     },
     "execution_count": 2,
     "metadata": {},
     "output_type": "execute_result"
    }
   ],
   "source": [
    "len(train_df.columns.tolist()),len(test_df.columns.tolist())"
   ]
  },
  {
   "cell_type": "markdown",
   "metadata": {},
   "source": [
    "number of missing data"
   ]
  },
  {
   "cell_type": "code",
   "execution_count": 3,
   "metadata": {},
   "outputs": [
    {
     "data": {
      "text/plain": [
       "(60, 307)"
      ]
     },
     "execution_count": 3,
     "metadata": {},
     "output_type": "execute_result"
    }
   ],
   "source": [
    "train_df.isna().sum().sum(),test_df.isna().sum().sum()"
   ]
  },
  {
   "cell_type": "markdown",
   "metadata": {},
   "source": [
    "Filling missing Data with 0"
   ]
  },
  {
   "cell_type": "code",
   "execution_count": 4,
   "metadata": {},
   "outputs": [
    {
     "data": {
      "text/plain": [
       "(0, 0)"
      ]
     },
     "execution_count": 4,
     "metadata": {},
     "output_type": "execute_result"
    }
   ],
   "source": [
    "train = train_df.fillna(0)\n",
    "test = test_df.fillna(0)\n",
    "train.isna().sum().sum(),test.isna().sum().sum()"
   ]
  },
  {
   "cell_type": "markdown",
   "metadata": {},
   "source": [
    "Let's see what intersects"
   ]
  },
  {
   "cell_type": "code",
   "execution_count": 5,
   "metadata": {},
   "outputs": [
    {
     "name": "stdout",
     "output_type": "stream",
     "text": [
      "173\n",
      "173\n"
     ]
    },
    {
     "data": {
      "text/plain": [
       "171"
      ]
     },
     "execution_count": 5,
     "metadata": {},
     "output_type": "execute_result"
    }
   ],
   "source": [
    "# columns may have same names but different cases\n",
    "train_cols = [x.lower() for x in train.columns.tolist()] \n",
    "test_cols = [x.lower() for x in test.columns.tolist()]\n",
    "print(len(train_cols))\n",
    "print(len(test_cols))\n",
    "A = set(train_cols)\n",
    "B = set(test_cols)\n",
    "C = A & B\n",
    "C = A & B\n",
    "\n",
    "len(C)"
   ]
  },
  {
   "cell_type": "code",
   "execution_count": 6,
   "metadata": {
    "scrolled": true
   },
   "outputs": [
    {
     "name": "stdout",
     "output_type": "stream",
     "text": [
      "Non intersecting column names: \n",
      "A-C {'statustot', 'fstatustot'}\n",
      "B-C {'status2', 'fstatus2'}\n",
      "171 171\n",
      "True\n"
     ]
    }
   ],
   "source": [
    "print(\"Non intersecting column names: \")\n",
    "print(\"A-C\",A - C)\n",
    "print(\"B-C\",B-C)\n",
    "D = A - C\n",
    "E = B - C\n",
    "Not_C = D | E\n",
    "for x in Not_C:\n",
    "    if x in train_cols:\n",
    "        train_cols.remove(x)\n",
    "    if x in test_cols:\n",
    "        test_cols.remove(x)\n",
    "print(len(train_cols),len(test_cols))\n",
    "\n",
    "train_X = train_cols[0:len(train_cols)-1]# not including digging actor\n",
    "y = train_cols[len(train_cols)-1]\n",
    "test_X = test_cols[0:len(test_cols)-1]\n",
    "train_X.sort()\n",
    "test_X.sort()\n",
    "train_X.append(y)\n",
    "test_X.append(y) \n",
    "print(train_X == test_X)\n",
    "\n",
    "train_cols = train.columns.tolist() \n",
    "test_cols = test.columns.tolist()\n",
    "# making the column names lowercase so we can index the features we want\n",
    "train_cols = [x.lower() for x in train_cols]\n",
    "test_cols = [x.lower() for x in test_cols]\n",
    "\n",
    "#reassigning column names\n",
    "train.columns = train_cols\n",
    "test.columns = test_cols\n"
   ]
  },
  {
   "cell_type": "code",
   "execution_count": 7,
   "metadata": {},
   "outputs": [
    {
     "data": {
      "text/plain": [
       "((2050, 170), (2050,))"
      ]
     },
     "execution_count": 7,
     "metadata": {},
     "output_type": "execute_result"
    }
   ],
   "source": [
    "len(train_X), len(test_X )\n",
    "train = train[train_X]\n",
    "test = test[test_X]\n",
    "train_data = train.values.astype('float')\n",
    "test_data = test.values.astype('float')\n",
    "cols = train_data.shape[1]\n",
    "\n",
    "\n",
    "# Joining sample A and sample B together\n",
    "full_data = np.concatenate((train_data,test_data))\n",
    "full_data.shape,train_data.shape,test_data.shape\n",
    "\n",
    "y = full_data[:,cols-1]\n",
    "X = full_data[:,0:cols-1]\n",
    "X.shape, y.shape"
   ]
  },
  {
   "cell_type": "markdown",
   "metadata": {},
   "source": [
    "# Helper functions"
   ]
  },
  {
   "cell_type": "code",
   "execution_count": 8,
   "metadata": {},
   "outputs": [
    {
     "name": "stderr",
     "output_type": "stream",
     "text": [
      "Using TensorFlow backend.\n"
     ]
    }
   ],
   "source": [
    "import matplotlib.pyplot as plt\n",
    "from sklearn.utils import shuffle\n",
    "from keras import layers\n",
    "from keras import models\n",
    "\"\"\"\n",
    "Builds a nn regression modelall_val_mae_histories, all_val_loss_histories, all_loss_histories, all_mae_histories\n",
    "\"\"\"\n",
    "def build_model(units,layerz,metric,shape):\n",
    "    model = models.Sequential()\n",
    "    model.add(layers.Dense(units, activation = 'relu', \n",
    "                           input_shape = (shape,)))\n",
    "    for layer in range(layerz):\n",
    "        model.add(layers.Dense(units, activation = 'relu'))\n",
    "    model.add(layers.Dense(1)) #linear layer\n",
    "    model.compile(optimizer = 'rmsprop', loss = 'logcosh', metrics = metric  )\n",
    "    return model\n",
    "\n",
    "\n",
    "\n",
    "\n",
    "\n",
    "\"\"\"\n",
    "params: units, layerz, metric,num_epochs\n",
    "returns : mae, loss, validation loss and validition mae histories for each fold\n",
    "          tuple( all_val_mae_histories, all_val_loss_histories, all_loss_histories, all_mae_histories)\n",
    "\"\"\"\n",
    "def validaton(hyper_parameters,shape,data):\n",
    "    k = 4\n",
    "    \n",
    "    units, layerz = hyper_parameters['units'], hyper_parameters['layerz']\n",
    "    metric,num_epochs = hyper_parameters['metric'], hyper_parameters['num_epochs']\n",
    "    train_data,train_targets = data['train'],data['target']\n",
    "    \n",
    "    num_val_samples = len(train_data) // k\n",
    "    all_val_mae_histories = []\n",
    "    all_val_loss_histories = []\n",
    "    all_loss_histories = []\n",
    "    all_mae_histories = []\n",
    "    all_val_mape_histories = []\n",
    "    \n",
    "    print(\"val_samples: \" + str(num_val_samples))\n",
    "    for i in range(k):\n",
    "        print('\\tprocessing fold #', i)\n",
    "        start = i*num_val_samples\n",
    "        stop = (i + 1) * num_val_samples\n",
    "        val_data = train_data[start:stop]\n",
    "        val_target = train_targets[start:stop]\n",
    "\n",
    "        partial_train_data = np.concatenate( (train_data[:start], train_data[stop:]) ,axis = 0)\n",
    "        partial_train_target = np.concatenate( (train_targets[:start],train_targets[stop:]), axis = 0) \n",
    "\n",
    "        model = build_model(units, layerz, metric,shape)\n",
    "        history = model.fit(partial_train_data, partial_train_target, epochs = num_epochs, batch_size = 1, verbose = 0,\n",
    "                            validation_data = (val_data, val_target) )\n",
    "\n",
    "\n",
    "        val_mae_history = history.history['val_mean_absolute_error']\n",
    "        val_loss_history = history.history['val_loss']\n",
    "        loss_history = history.history['loss']\n",
    "        mae_history = history.history['mean_absolute_error']\n",
    "        val_mape_history = history.history['val_mean_absolute_percentage_error']\n",
    "        \n",
    "        all_val_mae_histories.append(val_mae_history)  \n",
    "        all_val_loss_histories.append(val_loss_history)\n",
    "        all_loss_histories.append(loss_history)\n",
    "        all_mae_histories.append(mae_history)\n",
    "        all_val_mape_histories.append(val_mape_history)\n",
    "        \n",
    "    return all_val_mae_histories, all_val_loss_histories, all_loss_histories, all_mae_histories,all_val_mape_histories\n",
    "\n",
    "\"\"\"\n",
    "returns the histories of all the P * K folds\n",
    "\"\"\"\n",
    "def iterated_validation(num_iterations,hyper_parameters,shape,data):\n",
    "    all_val_mae_histories = []\n",
    "    all_val_loss_histories = []\n",
    "    all_loss_histories = []\n",
    "    all_mae_histories = []\n",
    "    all_val_mape_histories = []\n",
    "    train_data,train_targets = data['train'],data['target']\n",
    "    for i in range(num_iterations):\n",
    "        print(\"iteration: \"+str(i+1))\n",
    "            # shuffle training data\n",
    "        rows = np.arange(train_targets.size)\n",
    "        indexes = shuffle(rows)\n",
    "        train_data = train_data[indexes]\n",
    "        train_targets = train_targets[indexes]\n",
    "        print(\"\\tStarting indexes for training \" +str(indexes[0:5]))\n",
    "        \n",
    "        histories = validaton(hyper_parameters,shape,data)\n",
    "        all_val_mae_histories.extend(histories[0])\n",
    "        all_val_loss_histories.extend(histories[1])\n",
    "        all_loss_histories.extend(histories[2])\n",
    "        all_mae_histories.extend(histories[3])\n",
    "        all_val_mape_histories.extend(histories[4])\n",
    "        \n",
    "    return all_val_mae_histories, all_val_loss_histories, all_loss_histories, all_mae_histories,all_val_mape_histories\n",
    "\n",
    "\"\"\"\n",
    "Returns the mean for each elements returned in by the \n",
    "iterated_validation or validation function\n",
    "\"\"\"\n",
    "def average_folds(histories):\n",
    "    all_val_mae_histories, all_val_loss_histories, all_loss_histories, all_mae_histories,all_val_mape_histories = histories\n",
    "    averages = []\n",
    "    num_epochs = len(all_val_mae_histories[0])\n",
    "    averages.append([np.mean([x[i] for x in all_mae_histories]) for i in range(num_epochs)])\n",
    "    averages.append([np.mean([x[i] for x in all_val_mae_histories]) for i in range(num_epochs)])\n",
    "    averages.append([np.mean([x[i] for x in all_loss_histories]) for i in range(num_epochs)])\n",
    "    averages.append([np.mean([x[i] for x in all_val_loss_histories]) for i in range(num_epochs)])\n",
    "    averages.append([np.mean([x[i] for x in all_val_mape_histories]) for i in range(num_epochs)])\n",
    "    return averages\n",
    "\n",
    "\"\"\"\n",
    "Creates and plots 4 subplots. That represents \n",
    "the loss and Mae for the training and validation set\n",
    "\"\"\"\n",
    "def plots(histories):\n",
    "    val_mae = 1\n",
    "    val_loss = 3\n",
    "    val_mape = 4\n",
    "    indices = [val_mae,val_mape]\n",
    "    fig, axes = plt.subplots(1,2,figsize=(12,12))\n",
    "    axes.reshape((2,))\n",
    "    fig.suptitle('overfitting with different size features')\n",
    "    color = [\"b\",\"r\"]\n",
    "    name = [\"MAE\",\"MAPE\"]\n",
    "    for i , axis in enumerate(axes):\n",
    "        axis.plot(histories[indices[i]], color[i], label = name[i])\n",
    "        axis.set_xlabel('Epochs')\n",
    "        if i == 0:\n",
    "            axis.set_ylabel('Validation mae')\n",
    "        else: axis.set_ylabel('Validation mape')\n",
    "        plt.legend()\n",
    "    print(\"NN had a \" + str(np.min(histories[val_mae])) +\" MAE value\")\n",
    "    print(\"NN  had a \" + str(np.min(histories[val_mape])) +\" MAPE value\")\n",
    "    print(\"NN  had a \" + str(np.min(histories[val_loss])) +\" Loss value\")\n",
    "    print()\n",
    "    \n",
    "    \n",
    "def plot_features(features, names, smooth=0):\n",
    "    val_mae_index = 1\n",
    "    val_loss_index = 3\n",
    "    epochs = range(1,len(features[names[0]][val_mae_index])+1)\n",
    "    color = [\"b\",\"r\",\"g\",\"k\"]\n",
    "    plt.figure(figsize=(12,12))\n",
    "    plt.title('overfitting with different size features')\n",
    "    plt.xlabel('Epochs')\n",
    "    plt.ylabel('Validation mae')\n",
    "    for i,name in enumerate(names):\n",
    "        if smooth != 0:\n",
    "            plt.plot(epochs, smooth_curve(features[names[i]][val_mae_index]), color[i], label=name) \n",
    "        else:\n",
    "            plt.plot(epochs, features[names[i]][val_mae_index], color[i], label=name) \n",
    "        plt.legend()\n",
    "        print(name + \" had a \" + str(np.min(features[names[i]][val_mae_index])) +\" MAE value\")\n",
    "        print(name + \" had a \" + str(np.min(features[names[i]][val_loss_index])) +\" Loss value\")\n",
    "        print()\n",
    "    plt.show()\n",
    "    \n",
    "import matplotlib.pyplot as plt\n",
    "\"\"\"\n",
    "Used for plotting different kinds of models\n",
    "\"\"\"\n",
    "def plot_models(histories):\n",
    "    epochs = range(1,len(histories[0][\"val_loss\"])+1)\n",
    "    color = [\"b\",\"r\",\"g\",\"k\"]\n",
    "    name = [\"tiny\",\"small\", \"big\", \"huge\"]\n",
    "    plt.figure(figsize=(12,12))\n",
    "    plt.title('overfitting with different size capacity')\n",
    "    plt.xlabel('Epochs')\n",
    "    plt.ylabel('Validation mae')\n",
    "    for i,history in enumerate(histories):\n",
    "\n",
    "        plt.plot(epochs, history[\"val_mean_absolute_error\"], color[i], label=name[i]) \n",
    "        plt.legend()\n",
    "        print(name[i] + \" capacity min \" + str(np.min(history[\"val_loss\"])) +\" loss\")\n",
    "        print()\n",
    "        print(name[i] + \" capacity min \" + str(np.min(history[\"val_mean_absolute_error\"])) +\" mean_absolute_error\")\n",
    "        print()\n",
    "    plt.show()\n",
    "    \n",
    "\"\"\"\n",
    "Manipulates the data such that it looks smoother when you plot it\n",
    "\"\"\"\n",
    "def smooth_curve(points, factor=0.9):\n",
    "    smoothed_points = []\n",
    "    for point in points:\n",
    "        if smoothed_points:\n",
    "            previous = smoothed_points[-1]\n",
    "            smoothed_points.append(previous * factor + point*(1 - factor))\n",
    "        else:\n",
    "            smoothed_points.append(point)\n",
    "    return smoothed_points\n",
    "\n",
    "\n",
    "\n",
    "\n",
    "\n"
   ]
  },
  {
   "cell_type": "code",
   "execution_count": 9,
   "metadata": {},
   "outputs": [
    {
     "name": "stdout",
     "output_type": "stream",
     "text": [
      "iteration: 1\n",
      "\tStarting indexes for training [1176   75  744  722 1193]\n",
      "val_samples: 410\n",
      "\tprocessing fold # 0\n",
      "WARNING:tensorflow:From /home/cardosoo/venv/lib/python3.5/site-packages/tensorflow/python/framework/op_def_library.py:263: colocate_with (from tensorflow.python.framework.ops) is deprecated and will be removed in a future version.\n",
      "Instructions for updating:\n",
      "Colocations handled automatically by placer.\n",
      "WARNING:tensorflow:From /home/cardosoo/venv/lib/python3.5/site-packages/tensorflow/python/ops/math_ops.py:3066: to_int32 (from tensorflow.python.ops.math_ops) is deprecated and will be removed in a future version.\n",
      "Instructions for updating:\n",
      "Use tf.cast instead.\n",
      "\tprocessing fold # 1\n",
      "\tprocessing fold # 2\n",
      "\tprocessing fold # 3\n"
     ]
    }
   ],
   "source": [
    "ratio = 0.8\n",
    "split = int(np.floor(X.shape[0]*ratio))\n",
    "\n",
    "hyper_parameters = dict(units = 50, layerz = 3, metric =['mae','mape'], num_epochs = 300)\n",
    "shape = X.shape[1]\n",
    "train_data = X[0:split,:]\n",
    "train_target = y[0:split]\n",
    "data = dict(train = train_data, target = train_target)\n",
    "\n",
    "histories = iterated_validation(1, hyper_parameters,shape,data)"
   ]
  },
  {
   "cell_type": "markdown",
   "metadata": {},
   "source": [
    "# Experiment 1:\n",
    "units = 48, layerz = 3\n",
    "\n"
   ]
  },
  {
   "cell_type": "code",
   "execution_count": 10,
   "metadata": {},
   "outputs": [],
   "source": [
    "#note your loss and accuracy graphs may look different because of initial randomizaiton\n",
    "pickle_out = open(\"PostExperiment1RM\", \"wb\")\n",
    "pickle.dump(histories,pickle_out)\n",
    "pickle_out.close()"
   ]
  },
  {
   "cell_type": "code",
   "execution_count": 11,
   "metadata": {
    "scrolled": false
   },
   "outputs": [],
   "source": [
    "pickle_in = open(\"PostExperiment1RM\", \"rb\")\n",
    "histories = pickle.load(pickle_in)\n",
    "pickle_in.close()"
   ]
  },
  {
   "cell_type": "code",
   "execution_count": 12,
   "metadata": {},
   "outputs": [
    {
     "name": "stderr",
     "output_type": "stream",
     "text": [
      "No handles with labels found to put in legend.\n"
     ]
    },
    {
     "name": "stdout",
     "output_type": "stream",
     "text": [
      "NN had a 1.1527634001064408 MAE value\n",
      "NN  had a 924.4526034672813 MAPE value\n",
      "NN  had a 0.6625162550952376 Loss value\n",
      "\n"
     ]
    },
    {
     "data": {
      "image/png": "[encoded data removed]",
      "text/plain": [
       "<Figure size 864x864 with 2 Axes>"
      ]
     },
     "metadata": {
      "needs_background": "light"
     },
     "output_type": "display_data"
    }
   ],
   "source": [
    "average = average_folds(histories)\n",
    "plots(average)"
   ]
  },
  {
   "cell_type": "code",
   "execution_count": null,
   "metadata": {},
   "outputs": [
    {
     "name": "stdout",
     "output_type": "stream",
     "text": [
      "iteration: 1\n",
      "\tStarting indexes for training [ 52 528 293 383 805]\n",
      "val_samples: 410\n",
      "\tprocessing fold # 0\n",
      "\tprocessing fold # 1\n",
      "\tprocessing fold # 2\n"
     ]
    }
   ],
   "source": [
    "num = 10 #num of selected features\n",
    "#corrolation, Mutual Information, Mean decrease impurities ,Mean decrease accuracy\n",
    "train_datas = []\n",
    "test_datas = []\n",
    "ratio = 0.8\n",
    "split = int(np.floor(X.shape[0]*ratio))\n",
    "\n",
    "hyper_parameters = dict(units = 42, layerz = 2, metric =['mae','mape'], num_epochs = 300)\n",
    "shape = X.shape[1]\n",
    "train_data = X[0:split,:]\n",
    "train_target = y[0:split]\n",
    "data = dict(train = train_data, target = train_target)\n",
    "\n",
    "histories = iterated_validation(1, hyper_parameters,shape,data)"
   ]
  },
  {
   "cell_type": "code",
   "execution_count": null,
   "metadata": {
    "scrolled": false
   },
   "outputs": [],
   "source": [
    "average = average_folds(histories)\n",
    "plots(average)"
   ]
  },
  {
   "cell_type": "code",
   "execution_count": null,
   "metadata": {},
   "outputs": [],
   "source": [
    "plt.plot(average[1])"
   ]
  },
  {
   "cell_type": "code",
   "execution_count": null,
   "metadata": {},
   "outputs": [],
   "source": [
    "from keras import models\n",
    "from keras import layers\n",
    "from keras import regularizers\n",
    "\n",
    "def Models(num):\n",
    "    models = dict()\n",
    "    models[0] = build_model0\n",
    "    models[1] = build_model1\n",
    "    models[2] = build_model2\n",
    "    models[3] = build_model3\n",
    "    models[4] = build_model4\n",
    "    return models[num]\n",
    "\n",
    "\n",
    "def build_model4(units,layerz,metric,shape): # normal\n",
    "    model = models.Sequential()\n",
    "    model.add(layers.Dense(units, activation = 'relu', \n",
    "                           input_shape = (shape,)))\n",
    "    for layer in range(layerz):\n",
    "        model.add(layers.Dense(units, activation = 'relu'))\n",
    "    model.add(layers.Dense(1)) #linear layer\n",
    "    model.compile(optimizer = 'adam', loss = 'mse', metrics = [metric]  )\n",
    "    return model\n",
    "        \n",
    "\n",
    "def build_model0(units,layerz,metric,shape):\n",
    "    model = models.Sequential()\n",
    "    model.add(layers.Dense(units, activation = 'relu', \n",
    "                           input_shape = (shape,)))\n",
    "    for layer in range(layerz):\n",
    "        model.add(layers.Dense(units, activation = 'relu'))\n",
    "    model.add(layers.Dense(1)) #linear layer\n",
    "    model.compile(optimizer = 'rmsprop', loss = 'logcosh', metrics =[metric] )\n",
    "    return model\n",
    "\n",
    "def build_model1(units,layerz,metric,shape): # regularizaion\n",
    "    model = models.Sequential()\n",
    "    model.add(layers.Dense(units, activation = 'relu', kernel_regularizer = regularizers.l2(0.001),\n",
    "                           input_shape = (shape,)))\n",
    "    for layer in range(layerz):\n",
    "        model.add(layers.Dense(units, activation = 'relu', kernel_regularizer = regularizers.l2(0.001)))\n",
    "    model.add(layers.Dense(1)) #linear layer\n",
    "    model.compile(optimizer = 'rmsprop', loss = 'logcosh', metrics =[metric] )\n",
    "    return model\n",
    "\n",
    "def build_model2(units,layerz,metric,shape): #dropout\n",
    "    model = models.Sequential()\n",
    "    model.add(layers.Dense(units, activation = 'relu',\n",
    "                           input_shape = (shape,)))\n",
    "    model.add(layers.Dropout(0.5))\n",
    "    for layer in range(layerz):\n",
    "        model.add(layers.Dense(units, activation = 'relu'))\n",
    "        model.add(layers.Dropout(0.5))\n",
    "    model.add(layers.Dense(1)) #linear layer\n",
    "    model.compile(optimizer = 'rmsprop', loss = 'logcosh', metrics =[metric] )\n",
    "    return model\n",
    "\n",
    "def build_model3(units,layerz,metric,shape): # all use all\n",
    "    model = models.Sequential()\n",
    "    model.add(layers.Dense(units, activation = 'relu', kernel_regularizer = regularizers.l2(0.001),\n",
    "                           input_shape = (shape,)))\n",
    "    model.add(layers.Dropout(0.5))\n",
    "    for layer in range(layerz):\n",
    "        model.add(layers.Dense(units, activation = 'relu',kernel_regularizer = regularizers.l2(0.001)))\n",
    "        model.add(layers.Dropout(0.5))\n",
    "    model.add(layers.Dense(1)) #linear layer\n",
    "    model.compile(optimizer = 'rmsprop', loss = 'logcosh', metrics =[metric] )\n",
    "    return model   \n",
    "\n"
   ]
  },
  {
   "cell_type": "code",
   "execution_count": null,
   "metadata": {},
   "outputs": [],
   "source": [
    "metric = \"mae\"\n",
    "def Histories(num,shape):\n",
    "    build_model = Models(num)\n",
    "    model0 = build_model(50,1,metric,shape) # tiny\n",
    "    model1 = build_model(50,2,metric,shape) # small capacity\n",
    "    model2 = build_model(64,3,metric,shape) # big capacity\n",
    "    model3 = build_model(100,4,metric,shape) # huge capacity\n",
    "    modelz = [model0, model1,model2,model3]\n",
    "    histories = []\n",
    "    for model in modelz:\n",
    "        histories.append(\n",
    "            model.fit(partial_x_train, partial_y_train, epochs=100, batch_size = 512, verbose = 0,validation_data = (x_val,y_val)).history\n",
    "        )\n",
    "    return histories"
   ]
  },
  {
   "cell_type": "markdown",
   "metadata": {},
   "source": [
    "Normalize Data\n",
    "\n",
    "And split Validation set"
   ]
  },
  {
   "cell_type": "code",
   "execution_count": null,
   "metadata": {},
   "outputs": [],
   "source": [
    "# normalize\n",
    "ratio = 0.8\n",
    "split = int(np.floor(X.shape[0]*ratio))\n",
    "mean = X[0:split].mean(axis = 0)\n",
    "partial_x_train = X.copy()[0:split]\n",
    "partial_x_train -= mean\n",
    "std = partial_x_train.std(axis = 0)\n",
    "partial_x_train /= std\n",
    "partial_y_train = y.copy()[0:split]\n",
    "\n",
    "# split validation into two\n",
    "validation_X = X.copy()[split:]\n",
    "validation_y = y.copy()[split:]\n",
    "# validation set\n",
    "split = int(np.floor(validation_X.shape[0]*ratio))\n",
    "x_val = validation_X[0:split] - mean # use mean from training data\n",
    "x_val /= std # use standard deviation from training data\n",
    "y_val = validation_y[0:split]\n",
    "\n",
    "# test set\n",
    "x_test = validation_X[split:] - mean\n",
    "x_test /= std\n",
    "y_test = validation_y [split:]\n",
    "\n"
   ]
  },
  {
   "cell_type": "code",
   "execution_count": null,
   "metadata": {},
   "outputs": [],
   "source": [
    "partial_x_train.shape"
   ]
  },
  {
   "cell_type": "code",
   "execution_count": null,
   "metadata": {},
   "outputs": [],
   "source": [
    "validation_X.shape"
   ]
  },
  {
   "cell_type": "markdown",
   "metadata": {},
   "source": [
    "# Model 0"
   ]
  },
  {
   "cell_type": "code",
   "execution_count": null,
   "metadata": {},
   "outputs": [],
   "source": [
    "histories0 = Histories(0,X.shape[1])\n",
    "plot_models(histories0)"
   ]
  },
  {
   "cell_type": "code",
   "execution_count": null,
   "metadata": {},
   "outputs": [],
   "source": [
    "\n",
    "plot_models(histories0)"
   ]
  },
  {
   "cell_type": "markdown",
   "metadata": {},
   "source": [
    "# Model 1\n"
   ]
  },
  {
   "cell_type": "code",
   "execution_count": null,
   "metadata": {},
   "outputs": [],
   "source": [
    "histories1 = Histories(1,X.shape[1])\n",
    "plot_models(histories1)"
   ]
  },
  {
   "cell_type": "code",
   "execution_count": null,
   "metadata": {},
   "outputs": [],
   "source": []
  }
 ],
 "metadata": {
  "kernelspec": {
   "display_name": "Python 3",
   "language": "python",
   "name": "python3"
  },
  "language_info": {
   "codemirror_mode": {
    "name": "ipython",
    "version": 3
   },
   "file_extension": ".py",
   "mimetype": "text/x-python",
   "name": "python",
   "nbconvert_exporter": "python",
   "pygments_lexer": "ipython3",
   "version": "3.5.2"
  }
 },
 "nbformat": 4,
 "nbformat_minor": 2
}
